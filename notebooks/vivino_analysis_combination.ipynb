{
 "cells": [
  {
   "cell_type": "markdown",
   "metadata": {},
   "source": [
    "# PROJECT_VIVINO"
   ]
  },
  {
   "cell_type": "code",
   "execution_count": 4,
   "metadata": {},
   "outputs": [
    {
     "name": "stdout",
     "output_type": "stream",
     "text": [
      "2023-08-29 16:24:15,932 INFO sqlalchemy.engine.Engine SELECT name FROM sqlite_master WHERE type='table';\n",
      "2023-08-29 16:24:15,933 INFO sqlalchemy.engine.Engine [raw sql] ()\n",
      "The tables in vivino.db are:\n",
      "countries\n",
      "grapes\n",
      "wineries\n",
      "flavor_groups\n",
      "keywords\n",
      "regions\n",
      "most_used_grapes_per_country\n",
      "toplists\n",
      "wines\n",
      "vintages\n",
      "keywords_wine\n",
      "vintage_toplists_rankings\n"
     ]
    }
   ],
   "source": [
    "# import libraries\n",
    "import pandas as pd\n",
    "import sqlalchemy\n",
    "from sqlalchemy import create_engine\n",
    "from sqlalchemy.orm import Session, sessionmaker, registry\n",
    "\n",
    "# open vivino.db from data directory\n",
    "vivino_engine = create_engine('sqlite:///../data/vivino.db', echo=True)\n",
    "\n",
    "# establish and instantiate session as vivino_session\n",
    "vivino_session = sessionmaker(bind=vivino_engine)\n",
    "vivino_session = vivino_session()\n",
    "\n",
    "# create a registry for the vivino_session\n",
    "mapper_registry = registry()\n",
    "Base = mapper_registry.generate_base()\n",
    "\n",
    "# create tablenames_list that contains all table names in vivino.db\n",
    "query_tablenames = vivino_engine.execute(\n",
    "    \"SELECT name FROM sqlite_master WHERE type='table';\"\n",
    "    )\n",
    "tablenames_list = []\n",
    "for row in query_tablenames:\n",
    "    tablenames_list.append(row[0])\n",
    "\n",
    "print(\"The tables in vivino.db are:\")\n",
    "for table in tablenames_list:\n",
    "    print(table)\n"
   ]
  },
  {
   "cell_type": "markdown",
   "metadata": {},
   "source": [
    "### QUESTION 1\n",
    "\n",
    "We want to highlight 10 wines to increase our sales. Which ones should we choose and why?\n",
    "- Those with good ratings but not a big amount of ratings\n",
    "- Natural wines?\n",
    "\n"
   ]
  },
  {
   "cell_type": "code",
   "execution_count": 8,
   "metadata": {},
   "outputs": [
    {
     "name": "stdout",
     "output_type": "stream",
     "text": [
      "2023-08-29 16:33:02,588 INFO sqlalchemy.engine.Engine SELECT sql FROM sqlite_master\n",
      "    WHERE name='most_used_grapes_per_country';\n",
      "2023-08-29 16:33:02,589 INFO sqlalchemy.engine.Engine [raw sql] ()\n",
      "2023-08-29 16:33:02,591 INFO sqlalchemy.engine.Engine SELECT sql FROM sqlite_master\n",
      "    WHERE name='countries';\n",
      "2023-08-29 16:33:02,592 INFO sqlalchemy.engine.Engine [raw sql] ()\n",
      "2023-08-29 16:33:02,594 INFO sqlalchemy.engine.Engine SELECT sql FROM sqlite_master\n",
      "    WHERE name='grapes';\n",
      "2023-08-29 16:33:02,595 INFO sqlalchemy.engine.Engine [raw sql] ()\n",
      "The schema for most_used_grapes_per_country table is:\n",
      "CREATE TABLE most_used_grapes_per_country (\n",
      "\tid INTEGER NOT NULL, \n",
      "\tcountry_code VARCHAR, \n",
      "\tgrape_id INTEGER, \n",
      "\twines_count INTEGER, \n",
      "\tPRIMARY KEY (id), \n",
      "\tFOREIGN KEY(country_code) REFERENCES countries (code), \n",
      "\tFOREIGN KEY(grape_id) REFERENCES grapes (id)\n",
      ")\n",
      "The schema for countries table is:\n",
      "CREATE TABLE countries (\n",
      "\tcode VARCHAR NOT NULL, \n",
      "\tname VARCHAR, \n",
      "\tregions_count INTEGER, \n",
      "\tusers_count INTEGER, \n",
      "\twines_count INTEGER, \n",
      "\twineries_count INTEGER, \n",
      "\tPRIMARY KEY (code)\n",
      ")\n",
      "The schema for grapes table is:\n",
      "CREATE TABLE grapes (\n",
      "\tid INTEGER NOT NULL, \n",
      "\tname VARCHAR, \n",
      "\tPRIMARY KEY (id)\n",
      ")\n",
      "2023-08-29 16:33:02,598 INFO sqlalchemy.engine.Engine SELECT * \n",
      "    FROM most_used_grapes_per_country;\n",
      "2023-08-29 16:33:02,599 INFO sqlalchemy.engine.Engine [raw sql] ()\n"
     ]
    }
   ],
   "source": [
    "# query schemas for most_used_grapes_per_country table, countries table, and grapes table\n",
    "query_most_used_grapes_per_country_schema = vivino_engine.execute(\n",
    "    \"\"\"SELECT sql FROM sqlite_master\n",
    "    WHERE name='most_used_grapes_per_country';\"\"\"\n",
    ")\n",
    "\n",
    "query_countries_schema = vivino_engine.execute(\n",
    "    \"\"\"SELECT sql FROM sqlite_master\n",
    "    WHERE name='countries';\"\"\"\n",
    ")\n",
    "\n",
    "query_grapes_schema = vivino_engine.execute(\n",
    "    \"\"\"SELECT sql FROM sqlite_master\n",
    "    WHERE name='grapes';\"\"\"\n",
    ")\n",
    "\n",
    "# display schemas for most_used_grapes_per_country table, countries table, and grapes table\n",
    "## displaying schema for most_used_grapes_per_country table\n",
    "print(\"The schema for most_used_grapes_per_country table is:\")\n",
    "for row in query_most_used_grapes_per_country_schema:\n",
    "    print(row[0])\n",
    "\n",
    "## displaying schema for countries table\n",
    "print(\"The schema for countries table is:\")\n",
    "for row in query_countries_schema:\n",
    "    print(row[0])    \n",
    "\n",
    "## displaying schema for grapes table\n",
    "print(\"The schema for grapes table is:\")\n",
    "for row in query_grapes_schema:\n",
    "    print(row[0])\n",
    "\n",
    "\n",
    "# query most_used_grapes_per_country table\n",
    "query_most_used_grapes_per_country = vivino_engine.execute(\n",
    "    \"\"\"SELECT * \n",
    "    FROM most_used_grapes_per_country;\"\"\"\n",
    ")\n",
    "\n",
    "# create dataframe from query_most_used_grapes_per_country\n",
    "df_most_used_grapes_per_country = pd.DataFrame(\n",
    "    query_most_used_grapes_per_country.fetchall(),\n",
    "    columns=query_most_used_grapes_per_country.keys()\n",
    ")\n",
    "\n",
    "\n",
    "\n",
    "# # join countries table and grapes table to convert country_code and grape_id in most_used_grapes_per_country to country_name and grape_name\n",
    "# query_most_used_grapes_per_country = vivino_engine.execute(\n",
    "#     \"\"\"SELE\n",
    "\n",
    "# # display df_most_used_grapes_per_country\n",
    "# display(df_most_used_grapes_per_country)"
   ]
  },
  {
   "cell_type": "code",
   "execution_count": null,
   "metadata": {},
   "outputs": [],
   "source": []
  }
 ],
 "metadata": {
  "kernelspec": {
   "display_name": "vivino_venv",
   "language": "python",
   "name": "python3"
  },
  "language_info": {
   "codemirror_mode": {
    "name": "ipython",
    "version": 3
   },
   "file_extension": ".py",
   "mimetype": "text/x-python",
   "name": "python",
   "nbconvert_exporter": "python",
   "pygments_lexer": "ipython3",
   "version": "3.11.4"
  },
  "orig_nbformat": 4
 },
 "nbformat": 4,
 "nbformat_minor": 2
}
