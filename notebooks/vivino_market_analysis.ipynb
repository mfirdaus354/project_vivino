{
 "cells": [
  {
   "cell_type": "markdown",
   "metadata": {},
   "source": [
    "# PROJECT_VIVINO"
   ]
  },
  {
   "cell_type": "code",
   "execution_count": 1,
   "metadata": {},
   "outputs": [],
   "source": [
    "# initializing settings to run vivino_analysis_combination.ipynb\n",
    "\n",
    "## import libraries\n",
    "import pandas as pd\n",
    "import logging\n",
    "from sqlalchemy import create_engine, text\n",
    "from sqlalchemy.orm import sessionmaker, registry\n",
    "import plotly.express as px\n",
    "import plotly.graph_objects as go\n",
    "from plotly.subplots import make_subplots\n",
    "\n",
    "\n",
    "## set up logging to show no verbosity and highlight query results\n",
    "logging.basicConfig()\n",
    "logging.getLogger('sqlalchemy.engine').setLevel(logging.WARNING)\n",
    "\n",
    "## initialize vivino_engine and establish vivino_conn from vivino.db\n",
    "vivino_engine = create_engine('sqlite:///../data/vivino.db', echo=True)\n",
    "vivino_conn = vivino_engine.connect()\n",
    "\n",
    "## establish and instantiate session as vivino_session\n",
    "vivino_session = sessionmaker(bind=vivino_engine)\n",
    "vivino_session = vivino_session()\n",
    "\n",
    "## create a registry for the vivino_session\n",
    "mapper_registry = registry()\n",
    "Base = mapper_registry.generate_base()\n"
   ]
  },
  {
   "cell_type": "markdown",
   "metadata": {},
   "source": [
    "## QUESTION 1\n",
    "\n",
    "We want to highlight 10 wines to increase our sales. Which ones should we choose and why?\n",
    "- Those with good ratings but not a big amount of ratings\n",
    "- Natural wines?"
   ]
  },
  {
   "cell_type": "markdown",
   "metadata": {},
   "source": [
    "#### CATEGORY 1 - BEST RETAIL WINE"
   ]
  },
  {
   "cell_type": "code",
   "execution_count": 2,
   "metadata": {},
   "outputs": [
    {
     "name": "stdout",
     "output_type": "stream",
     "text": [
      "2023-09-01 08:53:18,567 INFO sqlalchemy.engine.Engine BEGIN (implicit)\n"
     ]
    },
    {
     "name": "stderr",
     "output_type": "stream",
     "text": [
      "INFO:sqlalchemy.engine.Engine:BEGIN (implicit)\n"
     ]
    },
    {
     "name": "stdout",
     "output_type": "stream",
     "text": [
      "2023-09-01 08:53:18,568 INFO sqlalchemy.engine.Engine \n",
      "    SELECT \n",
      "        wines.id AS wine_id,\n",
      "        wines.name AS wine_name,\n",
      "        wines.is_natural AS is_natural,\n",
      "        wines.ratings_average,\n",
      "        wines.ratings_count,\n",
      "        regions.name AS region_name,\n",
      "        countries.name AS country_name\n",
      "    FROM \n",
      "        wines\n",
      "    LEFT JOIN \n",
      "        regions ON wines.region_id = regions.id\n",
      "    LEFT JOIN \n",
      "        countries ON regions.country_code = countries.code\n",
      "    WHERE \n",
      "        wines.ratings_average >= 4.5\n",
      "        AND wines.ratings_count >= 650\n",
      "        AND wines.is_natural = 1\n",
      "    ORDER BY\n",
      "        ratings_count DESC;\n",
      "    \n"
     ]
    },
    {
     "name": "stderr",
     "output_type": "stream",
     "text": [
      "INFO:sqlalchemy.engine.Engine:\n",
      "    SELECT \n",
      "        wines.id AS wine_id,\n",
      "        wines.name AS wine_name,\n",
      "        wines.is_natural AS is_natural,\n",
      "        wines.ratings_average,\n",
      "        wines.ratings_count,\n",
      "        regions.name AS region_name,\n",
      "        countries.name AS country_name\n",
      "    FROM \n",
      "        wines\n",
      "    LEFT JOIN \n",
      "        regions ON wines.region_id = regions.id\n",
      "    LEFT JOIN \n",
      "        countries ON regions.country_code = countries.code\n",
      "    WHERE \n",
      "        wines.ratings_average >= 4.5\n",
      "        AND wines.ratings_count >= 650\n",
      "        AND wines.is_natural = 1\n",
      "    ORDER BY\n",
      "        ratings_count DESC;\n",
      "    \n"
     ]
    },
    {
     "name": "stdout",
     "output_type": "stream",
     "text": [
      "2023-09-01 08:53:18,568 INFO sqlalchemy.engine.Engine [generated in 0.00051s] ()\n"
     ]
    },
    {
     "name": "stderr",
     "output_type": "stream",
     "text": [
      "INFO:sqlalchemy.engine.Engine:[generated in 0.00051s] ()\n"
     ]
    },
    {
     "data": {
      "text/html": [
       "<div>\n",
       "<style scoped>\n",
       "    .dataframe tbody tr th:only-of-type {\n",
       "        vertical-align: middle;\n",
       "    }\n",
       "\n",
       "    .dataframe tbody tr th {\n",
       "        vertical-align: top;\n",
       "    }\n",
       "\n",
       "    .dataframe thead th {\n",
       "        text-align: right;\n",
       "    }\n",
       "</style>\n",
       "<table border=\"1\" class=\"dataframe\">\n",
       "  <thead>\n",
       "    <tr style=\"text-align: right;\">\n",
       "      <th></th>\n",
       "      <th>wine_id</th>\n",
       "      <th>wine_name</th>\n",
       "      <th>is_natural</th>\n",
       "      <th>ratings_average</th>\n",
       "      <th>ratings_count</th>\n",
       "      <th>region_name</th>\n",
       "      <th>country_name</th>\n",
       "    </tr>\n",
       "  </thead>\n",
       "  <tbody>\n",
       "    <tr>\n",
       "      <th>0</th>\n",
       "      <td>1101361</td>\n",
       "      <td>Les Poyeux Saumur Champigny</td>\n",
       "      <td>1</td>\n",
       "      <td>4.5</td>\n",
       "      <td>2005</td>\n",
       "      <td>Saumur-Champigny</td>\n",
       "      <td>France</td>\n",
       "    </tr>\n",
       "    <tr>\n",
       "      <th>1</th>\n",
       "      <td>1101360</td>\n",
       "      <td>Le Bourg Saumur Champigny</td>\n",
       "      <td>1</td>\n",
       "      <td>4.5</td>\n",
       "      <td>1264</td>\n",
       "      <td>Saumur-Champigny</td>\n",
       "      <td>France</td>\n",
       "    </tr>\n",
       "    <tr>\n",
       "      <th>2</th>\n",
       "      <td>1219509</td>\n",
       "      <td>Camí Pesseroles</td>\n",
       "      <td>1</td>\n",
       "      <td>4.5</td>\n",
       "      <td>1083</td>\n",
       "      <td>Priorat</td>\n",
       "      <td>Espagne</td>\n",
       "    </tr>\n",
       "    <tr>\n",
       "      <th>3</th>\n",
       "      <td>1627127</td>\n",
       "      <td>Magma</td>\n",
       "      <td>1</td>\n",
       "      <td>4.5</td>\n",
       "      <td>748</td>\n",
       "      <td>Terre Siciliane</td>\n",
       "      <td>Italie</td>\n",
       "    </tr>\n",
       "    <tr>\n",
       "      <th>4</th>\n",
       "      <td>1680438</td>\n",
       "      <td>Il San Lorenzo Bianco</td>\n",
       "      <td>1</td>\n",
       "      <td>4.5</td>\n",
       "      <td>673</td>\n",
       "      <td>Marche</td>\n",
       "      <td>Italie</td>\n",
       "    </tr>\n",
       "  </tbody>\n",
       "</table>\n",
       "</div>"
      ],
      "text/plain": [
       "   wine_id                    wine_name  is_natural  ratings_average  \\\n",
       "0  1101361  Les Poyeux Saumur Champigny           1              4.5   \n",
       "1  1101360    Le Bourg Saumur Champigny           1              4.5   \n",
       "2  1219509              Camí Pesseroles           1              4.5   \n",
       "3  1627127                        Magma           1              4.5   \n",
       "4  1680438        Il San Lorenzo Bianco           1              4.5   \n",
       "\n",
       "   ratings_count       region_name country_name  \n",
       "0           2005  Saumur-Champigny       France  \n",
       "1           1264  Saumur-Champigny       France  \n",
       "2           1083           Priorat      Espagne  \n",
       "3            748   Terre Siciliane       Italie  \n",
       "4            673            Marche       Italie  "
      ]
     },
     "metadata": {},
     "output_type": "display_data"
    }
   ],
   "source": [
    "# Identifying 5 best retail wines \n",
    "\n",
    "query_wines_natural = text(\n",
    "    '''\n",
    "    SELECT \n",
    "        wines.id AS wine_id,\n",
    "        wines.name AS wine_name,\n",
    "        wines.is_natural AS is_natural,\n",
    "        wines.ratings_average,\n",
    "        wines.ratings_count,\n",
    "        regions.name AS region_name,\n",
    "        countries.name AS country_name\n",
    "    FROM \n",
    "        wines\n",
    "    LEFT JOIN \n",
    "        regions ON wines.region_id = regions.id\n",
    "    LEFT JOIN \n",
    "        countries ON regions.country_code = countries.code\n",
    "    WHERE \n",
    "        wines.ratings_average >= 4.5\n",
    "        AND wines.ratings_count >= 650\n",
    "        AND wines.is_natural = 1\n",
    "    ORDER BY\n",
    "        ratings_count DESC;\n",
    "    '''\n",
    ")\n",
    "query_wines_natural = vivino_session.execute(query_wines_natural)\n",
    "\n",
    "# fetch query_wines_natural\n",
    "fetch_query_wines_natural = query_wines_natural.fetchall()\n",
    "\n",
    "# initialize fetch_query_wines_natural into pandas dataframe named df_wines_top5_natural\n",
    "df_wines_top5_natural = pd.DataFrame(\n",
    "    fetch_query_wines_natural,\n",
    "    columns=query_wines_natural.keys()\n",
    ")\n",
    "\n",
    "# display df_wines_top5_natural\n",
    "display(df_wines_top5_natural)\n"
   ]
  },
  {
   "cell_type": "markdown",
   "metadata": {},
   "source": [
    "We recommend the wines listed above because those wines are natural, European Wines substantiated with a solid customer reviews and rating."
   ]
  },
  {
   "cell_type": "markdown",
   "metadata": {},
   "source": [
    "#### CATEGORY 2 - BEST VINTAGE WINE"
   ]
  },
  {
   "cell_type": "code",
   "execution_count": 3,
   "metadata": {},
   "outputs": [
    {
     "name": "stdout",
     "output_type": "stream",
     "text": [
      "2023-09-01 08:53:18,580 INFO sqlalchemy.engine.Engine \n",
      "    SELECT \n",
      "        avg(rank) AS avg_rank,\n",
      "        vintages.name as vintage_wine_name,\n",
      "        vintages.wine_id AS wine_id,\n",
      "        vintages.ratings_average AS ratings_average,\n",
      "        vintages.ratings_count AS ratings_count,\n",
      "        vintages.price_euros AS retail_price_euros,\n",
      "        vintages.bottle_volume_ml AS bottle_volume_ml,\n",
      "        vintage_toplists_rankings.rank AS rank,\n",
      "        vintage_toplists_rankings.previous_rank AS previous_rank,\n",
      "        regions.name AS region_name,\n",
      "        countries.name AS country_name\n",
      "    FROM \n",
      "        vintages\n",
      "    LEFT JOIN \n",
      "        wines ON vintages.wine_id = wines.id\n",
      "    LEFT JOIN \n",
      "        regions ON wines.region_id = regions.id\n",
      "    LEFT JOIN \n",
      "        countries ON regions.country_code = countries.code\n",
      "    INNER JOIN \n",
      "        vintage_toplists_rankings ON vintages.id = vintage_toplists_rankings.vintage_id\n",
      "    WHERE \n",
      "        vintages.ratings_count >= 3000\n",
      "        AND vintages.ratings_average >= 4.5\n",
      "        AND vintage_toplists_rankings.rank = vintage_toplists_rankings.previous_rank\n",
      "        AND (vintage_toplists_rankings.rank <= 10 OR vintage_toplists_rankings.previous_rank <= 10)\n",
      "    GROUP BY \n",
      "        vintages.wine_id \n",
      "    ORDER BY \n",
      "        avg_rank ASC;\n",
      "    \n"
     ]
    },
    {
     "name": "stderr",
     "output_type": "stream",
     "text": [
      "INFO:sqlalchemy.engine.Engine:\n",
      "    SELECT \n",
      "        avg(rank) AS avg_rank,\n",
      "        vintages.name as vintage_wine_name,\n",
      "        vintages.wine_id AS wine_id,\n",
      "        vintages.ratings_average AS ratings_average,\n",
      "        vintages.ratings_count AS ratings_count,\n",
      "        vintages.price_euros AS retail_price_euros,\n",
      "        vintages.bottle_volume_ml AS bottle_volume_ml,\n",
      "        vintage_toplists_rankings.rank AS rank,\n",
      "        vintage_toplists_rankings.previous_rank AS previous_rank,\n",
      "        regions.name AS region_name,\n",
      "        countries.name AS country_name\n",
      "    FROM \n",
      "        vintages\n",
      "    LEFT JOIN \n",
      "        wines ON vintages.wine_id = wines.id\n",
      "    LEFT JOIN \n",
      "        regions ON wines.region_id = regions.id\n",
      "    LEFT JOIN \n",
      "        countries ON regions.country_code = countries.code\n",
      "    INNER JOIN \n",
      "        vintage_toplists_rankings ON vintages.id = vintage_toplists_rankings.vintage_id\n",
      "    WHERE \n",
      "        vintages.ratings_count >= 3000\n",
      "        AND vintages.ratings_average >= 4.5\n",
      "        AND vintage_toplists_rankings.rank = vintage_toplists_rankings.previous_rank\n",
      "        AND (vintage_toplists_rankings.rank <= 10 OR vintage_toplists_rankings.previous_rank <= 10)\n",
      "    GROUP BY \n",
      "        vintages.wine_id \n",
      "    ORDER BY \n",
      "        avg_rank ASC;\n",
      "    \n"
     ]
    },
    {
     "name": "stdout",
     "output_type": "stream",
     "text": [
      "2023-09-01 08:53:18,581 INFO sqlalchemy.engine.Engine [generated in 0.00084s] ()\n"
     ]
    },
    {
     "name": "stderr",
     "output_type": "stream",
     "text": [
      "INFO:sqlalchemy.engine.Engine:[generated in 0.00084s] ()\n"
     ]
    },
    {
     "data": {
      "text/html": [
       "<div>\n",
       "<style scoped>\n",
       "    .dataframe tbody tr th:only-of-type {\n",
       "        vertical-align: middle;\n",
       "    }\n",
       "\n",
       "    .dataframe tbody tr th {\n",
       "        vertical-align: top;\n",
       "    }\n",
       "\n",
       "    .dataframe thead th {\n",
       "        text-align: right;\n",
       "    }\n",
       "</style>\n",
       "<table border=\"1\" class=\"dataframe\">\n",
       "  <thead>\n",
       "    <tr style=\"text-align: right;\">\n",
       "      <th></th>\n",
       "      <th>avg_rank</th>\n",
       "      <th>vintage_wine_name</th>\n",
       "      <th>wine_id</th>\n",
       "      <th>ratings_average</th>\n",
       "      <th>ratings_count</th>\n",
       "      <th>retail_price_euros</th>\n",
       "      <th>bottle_volume_ml</th>\n",
       "      <th>rank</th>\n",
       "      <th>previous_rank</th>\n",
       "      <th>region_name</th>\n",
       "      <th>country_name</th>\n",
       "    </tr>\n",
       "  </thead>\n",
       "  <tbody>\n",
       "    <tr>\n",
       "      <th>0</th>\n",
       "      <td>5.5</td>\n",
       "      <td>Château Pontet-Canet Pauillac (Grand Cru Class...</td>\n",
       "      <td>14362</td>\n",
       "      <td>4.7</td>\n",
       "      <td>3275</td>\n",
       "      <td>597.5</td>\n",
       "      <td>750</td>\n",
       "      <td>5</td>\n",
       "      <td>5</td>\n",
       "      <td>Pauillac</td>\n",
       "      <td>France</td>\n",
       "    </tr>\n",
       "    <tr>\n",
       "      <th>1</th>\n",
       "      <td>6.0</td>\n",
       "      <td>Krug Rosé</td>\n",
       "      <td>79632</td>\n",
       "      <td>4.6</td>\n",
       "      <td>3605</td>\n",
       "      <td>349.0</td>\n",
       "      <td>750</td>\n",
       "      <td>6</td>\n",
       "      <td>6</td>\n",
       "      <td>Champagne</td>\n",
       "      <td>France</td>\n",
       "    </tr>\n",
       "    <tr>\n",
       "      <th>2</th>\n",
       "      <td>6.0</td>\n",
       "      <td>Krug Grande Cuvée</td>\n",
       "      <td>7122486</td>\n",
       "      <td>4.6</td>\n",
       "      <td>28513</td>\n",
       "      <td>245.0</td>\n",
       "      <td>750</td>\n",
       "      <td>6</td>\n",
       "      <td>6</td>\n",
       "      <td>Champagne</td>\n",
       "      <td>France</td>\n",
       "    </tr>\n",
       "    <tr>\n",
       "      <th>3</th>\n",
       "      <td>9.5</td>\n",
       "      <td>Laurent-Perrier Grand Siècle Champagne (Grande...</td>\n",
       "      <td>1238419</td>\n",
       "      <td>4.5</td>\n",
       "      <td>9824</td>\n",
       "      <td>183.7</td>\n",
       "      <td>750</td>\n",
       "      <td>9</td>\n",
       "      <td>9</td>\n",
       "      <td>Champagne</td>\n",
       "      <td>France</td>\n",
       "    </tr>\n",
       "    <tr>\n",
       "      <th>4</th>\n",
       "      <td>10.0</td>\n",
       "      <td>Antinori Tignanello 2016</td>\n",
       "      <td>1652</td>\n",
       "      <td>4.6</td>\n",
       "      <td>13709</td>\n",
       "      <td>420.0</td>\n",
       "      <td>750</td>\n",
       "      <td>10</td>\n",
       "      <td>10</td>\n",
       "      <td>Toscana</td>\n",
       "      <td>Italie</td>\n",
       "    </tr>\n",
       "  </tbody>\n",
       "</table>\n",
       "</div>"
      ],
      "text/plain": [
       "   avg_rank                                  vintage_wine_name  wine_id  \\\n",
       "0       5.5  Château Pontet-Canet Pauillac (Grand Cru Class...    14362   \n",
       "1       6.0                                          Krug Rosé    79632   \n",
       "2       6.0                                  Krug Grande Cuvée  7122486   \n",
       "3       9.5  Laurent-Perrier Grand Siècle Champagne (Grande...  1238419   \n",
       "4      10.0                           Antinori Tignanello 2016     1652   \n",
       "\n",
       "   ratings_average  ratings_count  retail_price_euros  bottle_volume_ml  rank  \\\n",
       "0              4.7           3275               597.5               750     5   \n",
       "1              4.6           3605               349.0               750     6   \n",
       "2              4.6          28513               245.0               750     6   \n",
       "3              4.5           9824               183.7               750     9   \n",
       "4              4.6          13709               420.0               750    10   \n",
       "\n",
       "   previous_rank region_name country_name  \n",
       "0              5    Pauillac       France  \n",
       "1              6   Champagne       France  \n",
       "2              6   Champagne       France  \n",
       "3              9   Champagne       France  \n",
       "4             10     Toscana       Italie  "
      ]
     },
     "metadata": {},
     "output_type": "display_data"
    }
   ],
   "source": [
    "# Identifying 5 best vintage wines\n",
    "query_vintages= text(\n",
    "    \"\"\"\n",
    "    SELECT \n",
    "        avg(rank) AS avg_rank,\n",
    "        vintages.name as vintage_wine_name,\n",
    "        vintages.wine_id AS wine_id,\n",
    "        vintages.ratings_average AS ratings_average,\n",
    "        vintages.ratings_count AS ratings_count,\n",
    "        vintages.price_euros AS retail_price_euros,\n",
    "        vintages.bottle_volume_ml AS bottle_volume_ml,\n",
    "        vintage_toplists_rankings.rank AS rank,\n",
    "        vintage_toplists_rankings.previous_rank AS previous_rank,\n",
    "        regions.name AS region_name,\n",
    "        countries.name AS country_name\n",
    "    FROM \n",
    "        vintages\n",
    "    LEFT JOIN \n",
    "        wines ON vintages.wine_id = wines.id\n",
    "    LEFT JOIN \n",
    "        regions ON wines.region_id = regions.id\n",
    "    LEFT JOIN \n",
    "        countries ON regions.country_code = countries.code\n",
    "    INNER JOIN \n",
    "        vintage_toplists_rankings ON vintages.id = vintage_toplists_rankings.vintage_id\n",
    "    WHERE \n",
    "        vintages.ratings_count >= 3000\n",
    "        AND vintages.ratings_average >= 4.5\n",
    "        AND vintage_toplists_rankings.rank = vintage_toplists_rankings.previous_rank\n",
    "        AND (vintage_toplists_rankings.rank <= 10 OR vintage_toplists_rankings.previous_rank <= 10)\n",
    "    GROUP BY \n",
    "        vintages.wine_id \n",
    "    ORDER BY \n",
    "        avg_rank ASC;\n",
    "    \"\"\"\n",
    ")\n",
    "query_vintages = vivino_session.execute(query_vintages)\n",
    "\n",
    "# initialize best_vintages_df\n",
    "fetch_query_vintages = query_vintages.fetchall()\n",
    "\n",
    "best_vintages_df = pd.DataFrame(\n",
    "    fetch_query_vintages,\n",
    "    columns=query_vintages.keys()\n",
    ")\n",
    "\n",
    "# drop 'price_discounted_from', 'price_discount_percentage', 'id', 'name',\n",
    "\n",
    "# display best_vintages_df\n",
    "display(best_vintages_df)\n",
    "\n"
   ]
  },
  {
   "cell_type": "markdown",
   "metadata": {},
   "source": [
    "We recommend these vintage wines due to the fact that they have been consistently marking their place in our vintages_toplists_rankings table throughout multiple years, and their positions are substantiated with a significant amount of ratings and overall average rating score. "
   ]
  },
  {
   "cell_type": "markdown",
   "metadata": {},
   "source": [
    "## QUESTION 2\n",
    "We have a marketing budget for this year. Which country should we prioritise and why?\n",
    "- Those with high user count?\n",
    "- those we low user count?\n",
    "- Those with a upcoming user popularity"
   ]
  },
  {
   "cell_type": "code",
   "execution_count": 4,
   "metadata": {},
   "outputs": [
    {
     "name": "stdout",
     "output_type": "stream",
     "text": [
      "2023-09-01 08:53:18,590 INFO sqlalchemy.engine.Engine \n",
      "    SELECT \n",
      "        countries.name AS country_name,\n",
      "        countries.users_count AS user_count\n",
      "    FROM \n",
      "        countries\n",
      "    ORDER BY \n",
      "        user_count DESC\n",
      "    LIMIT 5;\n",
      "    \n"
     ]
    },
    {
     "name": "stderr",
     "output_type": "stream",
     "text": [
      "INFO:sqlalchemy.engine.Engine:\n",
      "    SELECT \n",
      "        countries.name AS country_name,\n",
      "        countries.users_count AS user_count\n",
      "    FROM \n",
      "        countries\n",
      "    ORDER BY \n",
      "        user_count DESC\n",
      "    LIMIT 5;\n",
      "    \n"
     ]
    },
    {
     "name": "stdout",
     "output_type": "stream",
     "text": [
      "2023-09-01 08:53:18,591 INFO sqlalchemy.engine.Engine [generated in 0.00102s] ()\n"
     ]
    },
    {
     "name": "stderr",
     "output_type": "stream",
     "text": [
      "INFO:sqlalchemy.engine.Engine:[generated in 0.00102s] ()\n"
     ]
    },
    {
     "data": {
      "text/html": [
       "<div>\n",
       "<style scoped>\n",
       "    .dataframe tbody tr th:only-of-type {\n",
       "        vertical-align: middle;\n",
       "    }\n",
       "\n",
       "    .dataframe tbody tr th {\n",
       "        vertical-align: top;\n",
       "    }\n",
       "\n",
       "    .dataframe thead th {\n",
       "        text-align: right;\n",
       "    }\n",
       "</style>\n",
       "<table border=\"1\" class=\"dataframe\">\n",
       "  <thead>\n",
       "    <tr style=\"text-align: right;\">\n",
       "      <th></th>\n",
       "      <th>country_name</th>\n",
       "      <th>user_count</th>\n",
       "    </tr>\n",
       "  </thead>\n",
       "  <tbody>\n",
       "    <tr>\n",
       "      <th>0</th>\n",
       "      <td>États-Unis</td>\n",
       "      <td>12273684</td>\n",
       "    </tr>\n",
       "    <tr>\n",
       "      <th>1</th>\n",
       "      <td>France</td>\n",
       "      <td>5973301</td>\n",
       "    </tr>\n",
       "    <tr>\n",
       "      <th>2</th>\n",
       "      <td>Italie</td>\n",
       "      <td>4270717</td>\n",
       "    </tr>\n",
       "    <tr>\n",
       "      <th>3</th>\n",
       "      <td>Allemagne</td>\n",
       "      <td>2549989</td>\n",
       "    </tr>\n",
       "    <tr>\n",
       "      <th>4</th>\n",
       "      <td>Espagne</td>\n",
       "      <td>2264396</td>\n",
       "    </tr>\n",
       "  </tbody>\n",
       "</table>\n",
       "</div>"
      ],
      "text/plain": [
       "  country_name  user_count\n",
       "0   États-Unis    12273684\n",
       "1       France     5973301\n",
       "2       Italie     4270717\n",
       "3    Allemagne     2549989\n",
       "4      Espagne     2264396"
      ]
     },
     "metadata": {},
     "output_type": "display_data"
    }
   ],
   "source": [
    "# CRITERIA 1 - COUNTRIES WITH HIGH USER COUNTS\n",
    "\n",
    "## query countries table to yield top 5 countries based on user counts\n",
    "\n",
    "query_top_5_user_count = text(\n",
    "    \"\"\"\n",
    "    SELECT \n",
    "        countries.name AS country_name,\n",
    "        countries.users_count AS user_count\n",
    "    FROM \n",
    "        countries\n",
    "    ORDER BY \n",
    "        user_count DESC\n",
    "    LIMIT 5;\n",
    "    \"\"\"\n",
    ")\n",
    "query_top_5_user_count = vivino_session.execute(query_top_5_user_count)\n",
    "\n",
    "## initialize top_5_user_count_df\n",
    "fetch_query_top_5_user_count = query_top_5_user_count.fetchall()\n",
    "\n",
    "top_5_user_count_df = pd.DataFrame(\n",
    "    fetch_query_top_5_user_count,\n",
    "    columns=query_top_5_user_count.keys()\n",
    ")\n",
    "\n",
    "## display top_5_user_count_df\n",
    "display(top_5_user_count_df)"
   ]
  },
  {
   "cell_type": "code",
   "execution_count": 5,
   "metadata": {},
   "outputs": [
    {
     "name": "stdout",
     "output_type": "stream",
     "text": [
      "2023-09-01 08:53:18,598 INFO sqlalchemy.engine.Engine \n",
      "    SELECT \n",
      "        countries.name AS country_name,\n",
      "        SUM(wines.ratings_count) AS ratings_count\n",
      "    FROM \n",
      "        wines\n",
      "    LEFT JOIN \n",
      "        regions ON wines.region_id = regions.id\n",
      "    LEFT JOIN \n",
      "        countries ON regions.country_code = countries.code\n",
      "    GROUP BY \n",
      "        country_name\n",
      "    ORDER BY \n",
      "        ratings_count DESC;\n",
      "\n"
     ]
    },
    {
     "name": "stderr",
     "output_type": "stream",
     "text": [
      "INFO:sqlalchemy.engine.Engine:\n",
      "    SELECT \n",
      "        countries.name AS country_name,\n",
      "        SUM(wines.ratings_count) AS ratings_count\n",
      "    FROM \n",
      "        wines\n",
      "    LEFT JOIN \n",
      "        regions ON wines.region_id = regions.id\n",
      "    LEFT JOIN \n",
      "        countries ON regions.country_code = countries.code\n",
      "    GROUP BY \n",
      "        country_name\n",
      "    ORDER BY \n",
      "        ratings_count DESC;\n",
      "\n"
     ]
    },
    {
     "name": "stdout",
     "output_type": "stream",
     "text": [
      "2023-09-01 08:53:18,598 INFO sqlalchemy.engine.Engine [generated in 0.00069s] ()\n"
     ]
    },
    {
     "name": "stderr",
     "output_type": "stream",
     "text": [
      "INFO:sqlalchemy.engine.Engine:[generated in 0.00069s] ()\n"
     ]
    },
    {
     "data": {
      "text/html": [
       "<div>\n",
       "<style scoped>\n",
       "    .dataframe tbody tr th:only-of-type {\n",
       "        vertical-align: middle;\n",
       "    }\n",
       "\n",
       "    .dataframe tbody tr th {\n",
       "        vertical-align: top;\n",
       "    }\n",
       "\n",
       "    .dataframe thead th {\n",
       "        text-align: right;\n",
       "    }\n",
       "</style>\n",
       "<table border=\"1\" class=\"dataframe\">\n",
       "  <thead>\n",
       "    <tr style=\"text-align: right;\">\n",
       "      <th></th>\n",
       "      <th>country_name</th>\n",
       "      <th>ratings_count</th>\n",
       "    </tr>\n",
       "  </thead>\n",
       "  <tbody>\n",
       "    <tr>\n",
       "      <th>0</th>\n",
       "      <td>Italie</td>\n",
       "      <td>2135839</td>\n",
       "    </tr>\n",
       "    <tr>\n",
       "      <th>1</th>\n",
       "      <td>France</td>\n",
       "      <td>2124809</td>\n",
       "    </tr>\n",
       "    <tr>\n",
       "      <th>2</th>\n",
       "      <td>États-Unis</td>\n",
       "      <td>834263</td>\n",
       "    </tr>\n",
       "    <tr>\n",
       "      <th>3</th>\n",
       "      <td>Espagne</td>\n",
       "      <td>746710</td>\n",
       "    </tr>\n",
       "    <tr>\n",
       "      <th>4</th>\n",
       "      <td>Argentine</td>\n",
       "      <td>283673</td>\n",
       "    </tr>\n",
       "    <tr>\n",
       "      <th>5</th>\n",
       "      <td>Chili</td>\n",
       "      <td>159256</td>\n",
       "    </tr>\n",
       "    <tr>\n",
       "      <th>6</th>\n",
       "      <td>Portugal</td>\n",
       "      <td>62454</td>\n",
       "    </tr>\n",
       "    <tr>\n",
       "      <th>7</th>\n",
       "      <td>Afrique du Sud</td>\n",
       "      <td>59995</td>\n",
       "    </tr>\n",
       "    <tr>\n",
       "      <th>8</th>\n",
       "      <td>Australie</td>\n",
       "      <td>52138</td>\n",
       "    </tr>\n",
       "    <tr>\n",
       "      <th>9</th>\n",
       "      <td>Hongrie</td>\n",
       "      <td>30564</td>\n",
       "    </tr>\n",
       "    <tr>\n",
       "      <th>10</th>\n",
       "      <td>Moldavie</td>\n",
       "      <td>14114</td>\n",
       "    </tr>\n",
       "    <tr>\n",
       "      <th>11</th>\n",
       "      <td>Allemagne</td>\n",
       "      <td>8257</td>\n",
       "    </tr>\n",
       "    <tr>\n",
       "      <th>12</th>\n",
       "      <td>Suisse</td>\n",
       "      <td>1047</td>\n",
       "    </tr>\n",
       "    <tr>\n",
       "      <th>13</th>\n",
       "      <td>Israël</td>\n",
       "      <td>894</td>\n",
       "    </tr>\n",
       "    <tr>\n",
       "      <th>14</th>\n",
       "      <td>Grèce</td>\n",
       "      <td>610</td>\n",
       "    </tr>\n",
       "    <tr>\n",
       "      <th>15</th>\n",
       "      <td>Croatie</td>\n",
       "      <td>292</td>\n",
       "    </tr>\n",
       "    <tr>\n",
       "      <th>16</th>\n",
       "      <td>Roumanie</td>\n",
       "      <td>166</td>\n",
       "    </tr>\n",
       "  </tbody>\n",
       "</table>\n",
       "</div>"
      ],
      "text/plain": [
       "      country_name  ratings_count\n",
       "0           Italie        2135839\n",
       "1           France        2124809\n",
       "2       États-Unis         834263\n",
       "3          Espagne         746710\n",
       "4        Argentine         283673\n",
       "5            Chili         159256\n",
       "6         Portugal          62454\n",
       "7   Afrique du Sud          59995\n",
       "8        Australie          52138\n",
       "9          Hongrie          30564\n",
       "10        Moldavie          14114\n",
       "11       Allemagne           8257\n",
       "12          Suisse           1047\n",
       "13          Israël            894\n",
       "14           Grèce            610\n",
       "15         Croatie            292\n",
       "16        Roumanie            166"
      ]
     },
     "metadata": {},
     "output_type": "display_data"
    }
   ],
   "source": [
    "# CRITERIA 3 - COUNTRIES WITH UPCOMING USER POPULARITY\n",
    "\n",
    "## initializing query to yield upcoming popular countries\n",
    "query_upcoming_popular_country = text(\n",
    "    \"\"\"\n",
    "    SELECT \n",
    "        countries.name AS country_name,\n",
    "        SUM(wines.ratings_count) AS ratings_count\n",
    "    FROM \n",
    "        wines\n",
    "    LEFT JOIN \n",
    "        regions ON wines.region_id = regions.id\n",
    "    LEFT JOIN \n",
    "        countries ON regions.country_code = countries.code\n",
    "    GROUP BY \n",
    "        country_name\n",
    "    ORDER BY \n",
    "        ratings_count DESC;\n",
    "\"\"\"\n",
    ")\n",
    "query_upcoming_popular_country = vivino_session.execute(query_upcoming_popular_country)\n",
    "\n",
    "## initialize upcoming_popular_country_df\n",
    "fetch_query_upcoming_popular_country = query_upcoming_popular_country.fetchall()\n",
    "\n",
    "upcoming_popular_country_df = pd.DataFrame(\n",
    "    fetch_query_upcoming_popular_country,\n",
    "    columns=query_upcoming_popular_country.keys()\n",
    ")\n",
    "\n",
    "## display upcoming_popular_country_df\n",
    "display(upcoming_popular_country_df)\n"
   ]
  },
  {
   "cell_type": "markdown",
   "metadata": {},
   "source": [
    "Based on the information above, we suggest to focus the marketing resources on establishing customer base in these following countries \n",
    " 1. Italy (listed as Italie)\n",
    " 2. France (listed as France)\n",
    " 3. Spain (listed as Espagne)\n",
    " 4. United States of America (listed as États-Unis)\n",
    " 5. Germany (listed as Allemagne)\n",
    "\n",
    " The first 3 countries are countries from which the wines are highly sought after by customers in general, based on the customer engagement toward the wines the respective countries, which is measured through ratings count. On top of that, they are also countries with a substantial amount of customers as well. \n",
    " The last 2 countries are countries from which the wines are gaining more popularity. However, they are countries with a significant amount of customers who uses vivino. \n",
    " "
   ]
  },
  {
   "cell_type": "markdown",
   "metadata": {},
   "source": [
    "## QUESTION 3\n",
    "\n",
    "We have detected that a big cluster of customers like a specific combination of tastes.\n",
    "We have identified a few primary keywords that match this.\n",
    "We would like you to find all the wines that have those keywords. \n",
    "To ensure the accuracy of our selection, ensure that more than 10 users confirmed those keywords.\n",
    " Also, identify the group_name related to those keywords. \n",
    " - coffee\n",
    "- toast\n",
    "- green apple\n",
    "- cream\n",
    "- citrus"
   ]
  },
  {
   "cell_type": "code",
   "execution_count": 6,
   "metadata": {},
   "outputs": [
    {
     "name": "stdout",
     "output_type": "stream",
     "text": [
      "2023-09-01 08:53:18,606 INFO sqlalchemy.engine.Engine \n",
      "    SELECT \n",
      "        wines.id AS wine_id,\n",
      "        wines.name AS wine_name,\n",
      "        keywords.name AS flavor_keyword,\n",
      "        flavor_groups.name AS flavor_group,\n",
      "        keywords_wine.keyword_type AS keyword_type,\n",
      "        regions.name AS region_name,\n",
      "        countries.name AS country_name,\n",
      "        wines.ratings_average AS ratings_average,\n",
      "        wines.ratings_count AS ratings_count\n",
      "    FROM \n",
      "        wines\n",
      "    LEFT JOIN \n",
      "        keywords_wine ON wines.id = keywords_wine.wine_id\n",
      "    LEFT JOIN \n",
      "        keywords ON keywords_wine.keyword_id = keywords.id\n",
      "    LEFT JOIN \n",
      "        flavor_groups ON keywords_wine.group_name = flavor_groups.name\n",
      "    LEFT JOIN \n",
      "        regions ON wines.region_id = regions.id\n",
      "    LEFT JOIN \n",
      "        countries ON regions.country_code = countries.code\n",
      "    WHERE \n",
      "        keywords_wine.count >= 10\n",
      "        AND keyword_type = 'primary'\n",
      "    ORDER BY \n",
      "        ratings_count DESC;\n",
      "    \n"
     ]
    },
    {
     "name": "stderr",
     "output_type": "stream",
     "text": [
      "INFO:sqlalchemy.engine.Engine:\n",
      "    SELECT \n",
      "        wines.id AS wine_id,\n",
      "        wines.name AS wine_name,\n",
      "        keywords.name AS flavor_keyword,\n",
      "        flavor_groups.name AS flavor_group,\n",
      "        keywords_wine.keyword_type AS keyword_type,\n",
      "        regions.name AS region_name,\n",
      "        countries.name AS country_name,\n",
      "        wines.ratings_average AS ratings_average,\n",
      "        wines.ratings_count AS ratings_count\n",
      "    FROM \n",
      "        wines\n",
      "    LEFT JOIN \n",
      "        keywords_wine ON wines.id = keywords_wine.wine_id\n",
      "    LEFT JOIN \n",
      "        keywords ON keywords_wine.keyword_id = keywords.id\n",
      "    LEFT JOIN \n",
      "        flavor_groups ON keywords_wine.group_name = flavor_groups.name\n",
      "    LEFT JOIN \n",
      "        regions ON wines.region_id = regions.id\n",
      "    LEFT JOIN \n",
      "        countries ON regions.country_code = countries.code\n",
      "    WHERE \n",
      "        keywords_wine.count >= 10\n",
      "        AND keyword_type = 'primary'\n",
      "    ORDER BY \n",
      "        ratings_count DESC;\n",
      "    \n"
     ]
    },
    {
     "name": "stdout",
     "output_type": "stream",
     "text": [
      "2023-09-01 08:53:18,607 INFO sqlalchemy.engine.Engine [generated in 0.00070s] ()\n"
     ]
    },
    {
     "name": "stderr",
     "output_type": "stream",
     "text": [
      "INFO:sqlalchemy.engine.Engine:[generated in 0.00070s] ()\n"
     ]
    },
    {
     "data": {
      "text/html": [
       "<div>\n",
       "<style scoped>\n",
       "    .dataframe tbody tr th:only-of-type {\n",
       "        vertical-align: middle;\n",
       "    }\n",
       "\n",
       "    .dataframe tbody tr th {\n",
       "        vertical-align: top;\n",
       "    }\n",
       "\n",
       "    .dataframe thead th {\n",
       "        text-align: right;\n",
       "    }\n",
       "</style>\n",
       "<table border=\"1\" class=\"dataframe\">\n",
       "  <thead>\n",
       "    <tr style=\"text-align: right;\">\n",
       "      <th></th>\n",
       "      <th>wine_id</th>\n",
       "      <th>wine_name</th>\n",
       "      <th>flavor_group</th>\n",
       "      <th>keyword_type</th>\n",
       "      <th>region_name</th>\n",
       "      <th>country_name</th>\n",
       "      <th>ratings_average</th>\n",
       "      <th>ratings_count</th>\n",
       "      <th>flavor_keyword</th>\n",
       "    </tr>\n",
       "  </thead>\n",
       "  <tbody>\n",
       "    <tr>\n",
       "      <th>0</th>\n",
       "      <td>1213</td>\n",
       "      <td>Vin Santo di Montepulciano</td>\n",
       "      <td>dried_fruit</td>\n",
       "      <td>primary</td>\n",
       "      <td>Vin Santo di Montepulciano</td>\n",
       "      <td>Italie</td>\n",
       "      <td>4.6</td>\n",
       "      <td>773</td>\n",
       "      <td>raisin, fig</td>\n",
       "    </tr>\n",
       "    <tr>\n",
       "      <th>1</th>\n",
       "      <td>1213</td>\n",
       "      <td>Vin Santo di Montepulciano</td>\n",
       "      <td>earth</td>\n",
       "      <td>primary</td>\n",
       "      <td>Vin Santo di Montepulciano</td>\n",
       "      <td>Italie</td>\n",
       "      <td>4.6</td>\n",
       "      <td>773</td>\n",
       "      <td>honey</td>\n",
       "    </tr>\n",
       "    <tr>\n",
       "      <th>2</th>\n",
       "      <td>1213</td>\n",
       "      <td>Vin Santo di Montepulciano</td>\n",
       "      <td>oak</td>\n",
       "      <td>primary</td>\n",
       "      <td>Vin Santo di Montepulciano</td>\n",
       "      <td>Italie</td>\n",
       "      <td>4.6</td>\n",
       "      <td>773</td>\n",
       "      <td>caramel, chocolate, coffee</td>\n",
       "    </tr>\n",
       "    <tr>\n",
       "      <th>3</th>\n",
       "      <td>1268</td>\n",
       "      <td>St. Henri Shiraz</td>\n",
       "      <td>black_fruit</td>\n",
       "      <td>primary</td>\n",
       "      <td>South Australia</td>\n",
       "      <td>Australie</td>\n",
       "      <td>4.4</td>\n",
       "      <td>17326</td>\n",
       "      <td>blackberry, plum, black fruit, blackcurrant, b...</td>\n",
       "    </tr>\n",
       "    <tr>\n",
       "      <th>4</th>\n",
       "      <td>1268</td>\n",
       "      <td>St. Henri Shiraz</td>\n",
       "      <td>dried_fruit</td>\n",
       "      <td>primary</td>\n",
       "      <td>South Australia</td>\n",
       "      <td>Australie</td>\n",
       "      <td>4.4</td>\n",
       "      <td>17326</td>\n",
       "      <td>prune, raisin, dried fruit, fig</td>\n",
       "    </tr>\n",
       "    <tr>\n",
       "      <th>...</th>\n",
       "      <td>...</td>\n",
       "      <td>...</td>\n",
       "      <td>...</td>\n",
       "      <td>...</td>\n",
       "      <td>...</td>\n",
       "      <td>...</td>\n",
       "      <td>...</td>\n",
       "      <td>...</td>\n",
       "      <td>...</td>\n",
       "    </tr>\n",
       "    <tr>\n",
       "      <th>4775</th>\n",
       "      <td>9954550</td>\n",
       "      <td>Tinto</td>\n",
       "      <td>black_fruit</td>\n",
       "      <td>primary</td>\n",
       "      <td>Ribera del Duero</td>\n",
       "      <td>Espagne</td>\n",
       "      <td>4.5</td>\n",
       "      <td>585</td>\n",
       "      <td>blackberry</td>\n",
       "    </tr>\n",
       "    <tr>\n",
       "      <th>4776</th>\n",
       "      <td>9954550</td>\n",
       "      <td>Tinto</td>\n",
       "      <td>oak</td>\n",
       "      <td>primary</td>\n",
       "      <td>Ribera del Duero</td>\n",
       "      <td>Espagne</td>\n",
       "      <td>4.5</td>\n",
       "      <td>585</td>\n",
       "      <td>oak</td>\n",
       "    </tr>\n",
       "    <tr>\n",
       "      <th>4777</th>\n",
       "      <td>9954550</td>\n",
       "      <td>Tinto</td>\n",
       "      <td>red_fruit</td>\n",
       "      <td>primary</td>\n",
       "      <td>Ribera del Duero</td>\n",
       "      <td>Espagne</td>\n",
       "      <td>4.5</td>\n",
       "      <td>585</td>\n",
       "      <td>cherry</td>\n",
       "    </tr>\n",
       "    <tr>\n",
       "      <th>4778</th>\n",
       "      <td>9957200</td>\n",
       "      <td>802.A Superblend</td>\n",
       "      <td>oak</td>\n",
       "      <td>primary</td>\n",
       "      <td>South Australia</td>\n",
       "      <td>Australie</td>\n",
       "      <td>4.5</td>\n",
       "      <td>66</td>\n",
       "      <td>oak</td>\n",
       "    </tr>\n",
       "    <tr>\n",
       "      <th>4779</th>\n",
       "      <td>10773117</td>\n",
       "      <td>Paralupi Appassimento</td>\n",
       "      <td>oak</td>\n",
       "      <td>primary</td>\n",
       "      <td>Puglia</td>\n",
       "      <td>Italie</td>\n",
       "      <td>4.4</td>\n",
       "      <td>575</td>\n",
       "      <td>oak, chocolate</td>\n",
       "    </tr>\n",
       "  </tbody>\n",
       "</table>\n",
       "<p>4780 rows × 9 columns</p>\n",
       "</div>"
      ],
      "text/plain": [
       "       wine_id                   wine_name flavor_group keyword_type  \\\n",
       "0         1213  Vin Santo di Montepulciano  dried_fruit      primary   \n",
       "1         1213  Vin Santo di Montepulciano        earth      primary   \n",
       "2         1213  Vin Santo di Montepulciano          oak      primary   \n",
       "3         1268            St. Henri Shiraz  black_fruit      primary   \n",
       "4         1268            St. Henri Shiraz  dried_fruit      primary   \n",
       "...        ...                         ...          ...          ...   \n",
       "4775   9954550                       Tinto  black_fruit      primary   \n",
       "4776   9954550                       Tinto          oak      primary   \n",
       "4777   9954550                       Tinto    red_fruit      primary   \n",
       "4778   9957200            802.A Superblend          oak      primary   \n",
       "4779  10773117       Paralupi Appassimento          oak      primary   \n",
       "\n",
       "                     region_name country_name  ratings_average  ratings_count  \\\n",
       "0     Vin Santo di Montepulciano       Italie              4.6            773   \n",
       "1     Vin Santo di Montepulciano       Italie              4.6            773   \n",
       "2     Vin Santo di Montepulciano       Italie              4.6            773   \n",
       "3                South Australia    Australie              4.4          17326   \n",
       "4                South Australia    Australie              4.4          17326   \n",
       "...                          ...          ...              ...            ...   \n",
       "4775            Ribera del Duero      Espagne              4.5            585   \n",
       "4776            Ribera del Duero      Espagne              4.5            585   \n",
       "4777            Ribera del Duero      Espagne              4.5            585   \n",
       "4778             South Australia    Australie              4.5             66   \n",
       "4779                      Puglia       Italie              4.4            575   \n",
       "\n",
       "                                         flavor_keyword  \n",
       "0                                           raisin, fig  \n",
       "1                                                 honey  \n",
       "2                            caramel, chocolate, coffee  \n",
       "3     blackberry, plum, black fruit, blackcurrant, b...  \n",
       "4                       prune, raisin, dried fruit, fig  \n",
       "...                                                 ...  \n",
       "4775                                         blackberry  \n",
       "4776                                                oak  \n",
       "4777                                             cherry  \n",
       "4778                                                oak  \n",
       "4779                                     oak, chocolate  \n",
       "\n",
       "[4780 rows x 9 columns]"
      ]
     },
     "metadata": {},
     "output_type": "display_data"
    }
   ],
   "source": [
    "# Identifying the associated primary flavor_keyword per wine, as well as the flavor_group it belongs to.\n",
    "query_keyword_flavor_profile = text(\n",
    "    \"\"\"\n",
    "    SELECT \n",
    "        wines.id AS wine_id,\n",
    "        wines.name AS wine_name,\n",
    "        keywords.name AS flavor_keyword,\n",
    "        flavor_groups.name AS flavor_group,\n",
    "        keywords_wine.keyword_type AS keyword_type,\n",
    "        regions.name AS region_name,\n",
    "        countries.name AS country_name,\n",
    "        wines.ratings_average AS ratings_average,\n",
    "        wines.ratings_count AS ratings_count\n",
    "    FROM \n",
    "        wines\n",
    "    LEFT JOIN \n",
    "        keywords_wine ON wines.id = keywords_wine.wine_id\n",
    "    LEFT JOIN \n",
    "        keywords ON keywords_wine.keyword_id = keywords.id\n",
    "    LEFT JOIN \n",
    "        flavor_groups ON keywords_wine.group_name = flavor_groups.name\n",
    "    LEFT JOIN \n",
    "        regions ON wines.region_id = regions.id\n",
    "    LEFT JOIN \n",
    "        countries ON regions.country_code = countries.code\n",
    "    WHERE \n",
    "        keywords_wine.count >= 10\n",
    "        AND keyword_type = 'primary'\n",
    "    ORDER BY \n",
    "        ratings_count DESC;\n",
    "    \"\"\"\n",
    ")\n",
    "query_keyword_flavor_profile = vivino_session.execute(query_keyword_flavor_profile)\n",
    "\n",
    "## initialize keyword_flavor_profile_df\n",
    "fetch_query_keyword_flavor_profile = query_keyword_flavor_profile.fetchall()\n",
    "\n",
    "keyword_flavor_profile_df = pd.DataFrame(\n",
    "    fetch_query_keyword_flavor_profile,\n",
    "    columns=query_keyword_flavor_profile.keys()\n",
    ")\n",
    "\n",
    "## group flavor_keyword per flavor_group\n",
    "keyword_flavor_profile_df = keyword_flavor_profile_df.groupby(\n",
    "    [\n",
    "        'wine_id', \n",
    "        'wine_name', \n",
    "        'flavor_group', \n",
    "        'keyword_type', \n",
    "        'region_name', \n",
    "        'country_name', \n",
    "        'ratings_average', \n",
    "        'ratings_count'\n",
    "        ])['flavor_keyword'].apply(', '.join).reset_index()\n",
    "\n",
    "\n",
    "## display keyword_flavor_profile_df\n",
    "display(keyword_flavor_profile_df)\n",
    "\n"
   ]
  },
  {
   "cell_type": "code",
   "execution_count": 7,
   "metadata": {},
   "outputs": [
    {
     "name": "stdout",
     "output_type": "stream",
     "text": [
      "2023-09-01 08:53:18,732 INFO sqlalchemy.engine.Engine \n",
      "    SELECT \n",
      "        count(wines.name) as keyword_match_counter, \n",
      "        keywords_wine.wine_id,\n",
      "        wines.name AS wine_name,\n",
      "        keywords_wine.keyword_type AS keyword_type,\n",
      "        keywords_wine.group_name AS flavor_group\n",
      "    FROM \n",
      "        keywords_wine \n",
      "    JOIN \n",
      "        wines on wine_id = wines.id \n",
      "    WHERE \n",
      "        keywords_wine.count > 10 \n",
      "        AND keyword_id IN (\n",
      "            SELECT id \n",
      "            FROM keywords \n",
      "            WHERE name IN ('coffee', 'toast', 'green apple', 'cream', 'citrus')\n",
      "        )\n",
      "        AND keyword_type = 'primary' \n",
      "        GROUP BY wine_id \n",
      "        ORDER BY keyword_match_counter DESC\n",
      "        LIMIT 20;\n",
      "    \n"
     ]
    },
    {
     "name": "stderr",
     "output_type": "stream",
     "text": [
      "INFO:sqlalchemy.engine.Engine:\n",
      "    SELECT \n",
      "        count(wines.name) as keyword_match_counter, \n",
      "        keywords_wine.wine_id,\n",
      "        wines.name AS wine_name,\n",
      "        keywords_wine.keyword_type AS keyword_type,\n",
      "        keywords_wine.group_name AS flavor_group\n",
      "    FROM \n",
      "        keywords_wine \n",
      "    JOIN \n",
      "        wines on wine_id = wines.id \n",
      "    WHERE \n",
      "        keywords_wine.count > 10 \n",
      "        AND keyword_id IN (\n",
      "            SELECT id \n",
      "            FROM keywords \n",
      "            WHERE name IN ('coffee', 'toast', 'green apple', 'cream', 'citrus')\n",
      "        )\n",
      "        AND keyword_type = 'primary' \n",
      "        GROUP BY wine_id \n",
      "        ORDER BY keyword_match_counter DESC\n",
      "        LIMIT 20;\n",
      "    \n"
     ]
    },
    {
     "name": "stdout",
     "output_type": "stream",
     "text": [
      "2023-09-01 08:53:18,733 INFO sqlalchemy.engine.Engine [generated in 0.00064s] ()\n"
     ]
    },
    {
     "name": "stderr",
     "output_type": "stream",
     "text": [
      "INFO:sqlalchemy.engine.Engine:[generated in 0.00064s] ()\n"
     ]
    },
    {
     "data": {
      "text/html": [
       "<div>\n",
       "<style scoped>\n",
       "    .dataframe tbody tr th:only-of-type {\n",
       "        vertical-align: middle;\n",
       "    }\n",
       "\n",
       "    .dataframe tbody tr th {\n",
       "        vertical-align: top;\n",
       "    }\n",
       "\n",
       "    .dataframe thead th {\n",
       "        text-align: right;\n",
       "    }\n",
       "</style>\n",
       "<table border=\"1\" class=\"dataframe\">\n",
       "  <thead>\n",
       "    <tr style=\"text-align: right;\">\n",
       "      <th></th>\n",
       "      <th>keyword_match_counter</th>\n",
       "      <th>wine_id</th>\n",
       "      <th>wine_name</th>\n",
       "      <th>keyword_type</th>\n",
       "      <th>flavor_group</th>\n",
       "    </tr>\n",
       "  </thead>\n",
       "  <tbody>\n",
       "    <tr>\n",
       "      <th>0</th>\n",
       "      <td>5</td>\n",
       "      <td>7122486</td>\n",
       "      <td>Grande Cuvée</td>\n",
       "      <td>primary</td>\n",
       "      <td>citrus_fruit</td>\n",
       "    </tr>\n",
       "    <tr>\n",
       "      <th>1</th>\n",
       "      <td>5</td>\n",
       "      <td>3630450</td>\n",
       "      <td>Cuvée des Enchanteleurs Brut Champagne</td>\n",
       "      <td>primary</td>\n",
       "      <td>citrus_fruit</td>\n",
       "    </tr>\n",
       "    <tr>\n",
       "      <th>2</th>\n",
       "      <td>5</td>\n",
       "      <td>3102815</td>\n",
       "      <td>P2 Plénitude Brut Champagne</td>\n",
       "      <td>primary</td>\n",
       "      <td>citrus_fruit</td>\n",
       "    </tr>\n",
       "    <tr>\n",
       "      <th>3</th>\n",
       "      <td>5</td>\n",
       "      <td>1692390</td>\n",
       "      <td>Sir Winston Churchill Brut Champagne</td>\n",
       "      <td>primary</td>\n",
       "      <td>citrus_fruit</td>\n",
       "    </tr>\n",
       "    <tr>\n",
       "      <th>4</th>\n",
       "      <td>5</td>\n",
       "      <td>1441099</td>\n",
       "      <td>Blanc des Millénaires</td>\n",
       "      <td>primary</td>\n",
       "      <td>citrus_fruit</td>\n",
       "    </tr>\n",
       "    <tr>\n",
       "      <th>5</th>\n",
       "      <td>5</td>\n",
       "      <td>1192720</td>\n",
       "      <td>Dom Ruinart Blanc de Blancs Brut Champagne</td>\n",
       "      <td>primary</td>\n",
       "      <td>citrus_fruit</td>\n",
       "    </tr>\n",
       "    <tr>\n",
       "      <th>6</th>\n",
       "      <td>5</td>\n",
       "      <td>1164702</td>\n",
       "      <td>R.D Extra Brut Champagne (Récemment Dégorgé)</td>\n",
       "      <td>primary</td>\n",
       "      <td>citrus_fruit</td>\n",
       "    </tr>\n",
       "    <tr>\n",
       "      <th>7</th>\n",
       "      <td>5</td>\n",
       "      <td>1153863</td>\n",
       "      <td>Sauternes</td>\n",
       "      <td>primary</td>\n",
       "      <td>citrus_fruit</td>\n",
       "    </tr>\n",
       "    <tr>\n",
       "      <th>8</th>\n",
       "      <td>5</td>\n",
       "      <td>1136950</td>\n",
       "      <td>Comtes de Champagne Blanc de Blancs</td>\n",
       "      <td>primary</td>\n",
       "      <td>citrus_fruit</td>\n",
       "    </tr>\n",
       "    <tr>\n",
       "      <th>9</th>\n",
       "      <td>5</td>\n",
       "      <td>1127349</td>\n",
       "      <td>Le Mesnil Blanc de Blancs (Cuvée S) Brut Champ...</td>\n",
       "      <td>primary</td>\n",
       "      <td>citrus_fruit</td>\n",
       "    </tr>\n",
       "    <tr>\n",
       "      <th>10</th>\n",
       "      <td>5</td>\n",
       "      <td>1105696</td>\n",
       "      <td>Trebbiano d'Abruzzo</td>\n",
       "      <td>primary</td>\n",
       "      <td>citrus_fruit</td>\n",
       "    </tr>\n",
       "    <tr>\n",
       "      <th>11</th>\n",
       "      <td>5</td>\n",
       "      <td>86684</td>\n",
       "      <td>Brut Champagne</td>\n",
       "      <td>primary</td>\n",
       "      <td>citrus_fruit</td>\n",
       "    </tr>\n",
       "    <tr>\n",
       "      <th>12</th>\n",
       "      <td>5</td>\n",
       "      <td>79836</td>\n",
       "      <td>La Grande Dame Brut Champagne</td>\n",
       "      <td>primary</td>\n",
       "      <td>citrus_fruit</td>\n",
       "    </tr>\n",
       "    <tr>\n",
       "      <th>13</th>\n",
       "      <td>5</td>\n",
       "      <td>79631</td>\n",
       "      <td>Vintage</td>\n",
       "      <td>primary</td>\n",
       "      <td>citrus_fruit</td>\n",
       "    </tr>\n",
       "    <tr>\n",
       "      <th>14</th>\n",
       "      <td>5</td>\n",
       "      <td>79162</td>\n",
       "      <td>Belle Epoque Brut Champagne</td>\n",
       "      <td>primary</td>\n",
       "      <td>citrus_fruit</td>\n",
       "    </tr>\n",
       "    <tr>\n",
       "      <th>15</th>\n",
       "      <td>5</td>\n",
       "      <td>74304</td>\n",
       "      <td>Cristal Brut Champagne (Millésimé)</td>\n",
       "      <td>primary</td>\n",
       "      <td>citrus_fruit</td>\n",
       "    </tr>\n",
       "    <tr>\n",
       "      <th>16</th>\n",
       "      <td>5</td>\n",
       "      <td>18931</td>\n",
       "      <td>La Grande Année Brut Champagne</td>\n",
       "      <td>primary</td>\n",
       "      <td>citrus_fruit</td>\n",
       "    </tr>\n",
       "    <tr>\n",
       "      <th>17</th>\n",
       "      <td>4</td>\n",
       "      <td>2410111</td>\n",
       "      <td>Gaia &amp; Rey Langhe</td>\n",
       "      <td>primary</td>\n",
       "      <td>citrus_fruit</td>\n",
       "    </tr>\n",
       "    <tr>\n",
       "      <th>18</th>\n",
       "      <td>4</td>\n",
       "      <td>2240674</td>\n",
       "      <td>Brut Champagne (Gold)</td>\n",
       "      <td>primary</td>\n",
       "      <td>citrus_fruit</td>\n",
       "    </tr>\n",
       "    <tr>\n",
       "      <th>19</th>\n",
       "      <td>4</td>\n",
       "      <td>2148396</td>\n",
       "      <td>V.P Extra Brut Champagne Grand Cru 'Ambonnay'</td>\n",
       "      <td>primary</td>\n",
       "      <td>citrus_fruit</td>\n",
       "    </tr>\n",
       "  </tbody>\n",
       "</table>\n",
       "</div>"
      ],
      "text/plain": [
       "    keyword_match_counter  wine_id  \\\n",
       "0                       5  7122486   \n",
       "1                       5  3630450   \n",
       "2                       5  3102815   \n",
       "3                       5  1692390   \n",
       "4                       5  1441099   \n",
       "5                       5  1192720   \n",
       "6                       5  1164702   \n",
       "7                       5  1153863   \n",
       "8                       5  1136950   \n",
       "9                       5  1127349   \n",
       "10                      5  1105696   \n",
       "11                      5    86684   \n",
       "12                      5    79836   \n",
       "13                      5    79631   \n",
       "14                      5    79162   \n",
       "15                      5    74304   \n",
       "16                      5    18931   \n",
       "17                      4  2410111   \n",
       "18                      4  2240674   \n",
       "19                      4  2148396   \n",
       "\n",
       "                                            wine_name keyword_type  \\\n",
       "0                                        Grande Cuvée      primary   \n",
       "1              Cuvée des Enchanteleurs Brut Champagne      primary   \n",
       "2                         P2 Plénitude Brut Champagne      primary   \n",
       "3                Sir Winston Churchill Brut Champagne      primary   \n",
       "4                               Blanc des Millénaires      primary   \n",
       "5          Dom Ruinart Blanc de Blancs Brut Champagne      primary   \n",
       "6        R.D Extra Brut Champagne (Récemment Dégorgé)      primary   \n",
       "7                                           Sauternes      primary   \n",
       "8                 Comtes de Champagne Blanc de Blancs      primary   \n",
       "9   Le Mesnil Blanc de Blancs (Cuvée S) Brut Champ...      primary   \n",
       "10                                Trebbiano d'Abruzzo      primary   \n",
       "11                                     Brut Champagne      primary   \n",
       "12                      La Grande Dame Brut Champagne      primary   \n",
       "13                                            Vintage      primary   \n",
       "14                        Belle Epoque Brut Champagne      primary   \n",
       "15                 Cristal Brut Champagne (Millésimé)      primary   \n",
       "16                     La Grande Année Brut Champagne      primary   \n",
       "17                                  Gaia & Rey Langhe      primary   \n",
       "18                              Brut Champagne (Gold)      primary   \n",
       "19      V.P Extra Brut Champagne Grand Cru 'Ambonnay'      primary   \n",
       "\n",
       "    flavor_group  \n",
       "0   citrus_fruit  \n",
       "1   citrus_fruit  \n",
       "2   citrus_fruit  \n",
       "3   citrus_fruit  \n",
       "4   citrus_fruit  \n",
       "5   citrus_fruit  \n",
       "6   citrus_fruit  \n",
       "7   citrus_fruit  \n",
       "8   citrus_fruit  \n",
       "9   citrus_fruit  \n",
       "10  citrus_fruit  \n",
       "11  citrus_fruit  \n",
       "12  citrus_fruit  \n",
       "13  citrus_fruit  \n",
       "14  citrus_fruit  \n",
       "15  citrus_fruit  \n",
       "16  citrus_fruit  \n",
       "17  citrus_fruit  \n",
       "18  citrus_fruit  \n",
       "19  citrus_fruit  "
      ]
     },
     "metadata": {},
     "output_type": "display_data"
    }
   ],
   "source": [
    "# Identifying the group_name of the requested flavor keywords\n",
    "query_requested_keywords = text(\n",
    "    \"\"\"\n",
    "    SELECT \n",
    "        count(wines.name) as keyword_match_counter, \n",
    "        keywords_wine.wine_id,\n",
    "        wines.name AS wine_name,\n",
    "        keywords_wine.keyword_type AS keyword_type,\n",
    "        keywords_wine.group_name AS flavor_group\n",
    "    FROM \n",
    "        keywords_wine \n",
    "    JOIN \n",
    "        wines on wine_id = wines.id \n",
    "    WHERE \n",
    "        keywords_wine.count > 10 \n",
    "        AND keyword_id IN (\n",
    "            SELECT id \n",
    "            FROM keywords \n",
    "            WHERE name IN ('coffee', 'toast', 'green apple', 'cream', 'citrus')\n",
    "        )\n",
    "        AND keyword_type = 'primary' \n",
    "        GROUP BY wine_id \n",
    "        ORDER BY keyword_match_counter DESC\n",
    "        LIMIT 20;\n",
    "    \"\"\"\n",
    ")\n",
    "query_requested_keywords = vivino_session.execute(query_requested_keywords)\n",
    "\n",
    "## INitialize keyword_flavor_profile_df\n",
    "fetch_query_requested_keywords = query_requested_keywords.fetchall()\n",
    "\n",
    "requested_keyword_df = pd.DataFrame(\n",
    "    fetch_query_requested_keywords,\n",
    "    columns=query_requested_keywords.keys()\n",
    ")\n",
    "\n",
    "## display keyword_flavor_profile_df\n",
    "display(requested_keyword_df)\n"
   ]
  },
  {
   "cell_type": "markdown",
   "metadata": {},
   "source": [
    " - 'keyword_flavor_profile_df' highlights the 'flavor_group' of each associated 'flavor_key' per 'wine_name'. \n",
    "\n",
    " - 'requested_keyword_df' highlights the 'flavor_group' name in which the requested 'flavor_key' belong to. \n",
    "     - 'keyword_match_counter' column acts as an indicator that suggests the matched 'wine_name' fulfills all of the requested 'flavor_key'\n",
    "     - The requested 'flavor_key' are: 'coffee', 'toast', 'green apple', 'cream', 'citrus'\n",
    "     - The requested 'flavor_key' belongs to 'citrus_fruit' 'flavor_group'\n"
   ]
  },
  {
   "cell_type": "markdown",
   "metadata": {},
   "source": [
    "## QUESTION 4\n",
    "We would like to select wines that are easy to find all over the world. \n",
    "1. Find the top 3 most common grape all over the world \n",
    "2. For each grape, give us the the 5 best rated wines."
   ]
  },
  {
   "cell_type": "code",
   "execution_count": 8,
   "metadata": {},
   "outputs": [
    {
     "name": "stdout",
     "output_type": "stream",
     "text": [
      "2023-09-01 08:53:18,749 INFO sqlalchemy.engine.Engine \n",
      "    SELECT\n",
      "        grapes.name AS grape_name,\n",
      "        most_used_grapes_per_country.wines_count AS wines_count,\n",
      "        count(most_used_grapes_per_country.country_code) AS num_available_countries,\n",
      "        GROUP_CONCAT(countries.name) AS used_in_wines_from\n",
      "    FROM\n",
      "        most_used_grapes_per_country\n",
      "    LEFT JOIN \n",
      "        grapes ON most_used_grapes_per_country.grape_id = grapes.id\n",
      "    LEFT JOIN \n",
      "        countries ON most_used_grapes_per_country.country_code = countries.code\n",
      "    WHERE\n",
      "        most_used_grapes_per_country.wines_count > 100000\n",
      "    GROUP BY \n",
      "        most_used_grapes_per_country.grape_id\n",
      "    ORDER BY\n",
      "        num_available_countries DESC\n",
      "    LIMIT 10;\n",
      "    \n"
     ]
    },
    {
     "name": "stderr",
     "output_type": "stream",
     "text": [
      "INFO:sqlalchemy.engine.Engine:\n",
      "    SELECT\n",
      "        grapes.name AS grape_name,\n",
      "        most_used_grapes_per_country.wines_count AS wines_count,\n",
      "        count(most_used_grapes_per_country.country_code) AS num_available_countries,\n",
      "        GROUP_CONCAT(countries.name) AS used_in_wines_from\n",
      "    FROM\n",
      "        most_used_grapes_per_country\n",
      "    LEFT JOIN \n",
      "        grapes ON most_used_grapes_per_country.grape_id = grapes.id\n",
      "    LEFT JOIN \n",
      "        countries ON most_used_grapes_per_country.country_code = countries.code\n",
      "    WHERE\n",
      "        most_used_grapes_per_country.wines_count > 100000\n",
      "    GROUP BY \n",
      "        most_used_grapes_per_country.grape_id\n",
      "    ORDER BY\n",
      "        num_available_countries DESC\n",
      "    LIMIT 10;\n",
      "    \n"
     ]
    },
    {
     "name": "stdout",
     "output_type": "stream",
     "text": [
      "2023-09-01 08:53:18,750 INFO sqlalchemy.engine.Engine [generated in 0.00066s] ()\n"
     ]
    },
    {
     "name": "stderr",
     "output_type": "stream",
     "text": [
      "INFO:sqlalchemy.engine.Engine:[generated in 0.00066s] ()\n"
     ]
    },
    {
     "data": {
      "text/html": [
       "<div>\n",
       "<style scoped>\n",
       "    .dataframe tbody tr th:only-of-type {\n",
       "        vertical-align: middle;\n",
       "    }\n",
       "\n",
       "    .dataframe tbody tr th {\n",
       "        vertical-align: top;\n",
       "    }\n",
       "\n",
       "    .dataframe thead th {\n",
       "        text-align: right;\n",
       "    }\n",
       "</style>\n",
       "<table border=\"1\" class=\"dataframe\">\n",
       "  <thead>\n",
       "    <tr style=\"text-align: right;\">\n",
       "      <th></th>\n",
       "      <th>grape_name</th>\n",
       "      <th>wines_count</th>\n",
       "      <th>num_available_countries</th>\n",
       "      <th>used_in_wines_from</th>\n",
       "    </tr>\n",
       "  </thead>\n",
       "  <tbody>\n",
       "    <tr>\n",
       "      <th>0</th>\n",
       "      <td>Cabernet Sauvignon</td>\n",
       "      <td>801751</td>\n",
       "      <td>12</td>\n",
       "      <td>États-Unis,Espagne,Australie,Hongrie,Afrique d...</td>\n",
       "    </tr>\n",
       "    <tr>\n",
       "      <th>1</th>\n",
       "      <td>Merlot</td>\n",
       "      <td>566719</td>\n",
       "      <td>11</td>\n",
       "      <td>Italie,France,Hongrie,Afrique du Sud,Chili,Mol...</td>\n",
       "    </tr>\n",
       "    <tr>\n",
       "      <th>2</th>\n",
       "      <td>Chardonnay</td>\n",
       "      <td>604208</td>\n",
       "      <td>6</td>\n",
       "      <td>Italie,France,États-Unis,Australie,Moldavie,Ar...</td>\n",
       "    </tr>\n",
       "    <tr>\n",
       "      <th>3</th>\n",
       "      <td>Pinot Noir</td>\n",
       "      <td>572334</td>\n",
       "      <td>3</td>\n",
       "      <td>France,États-Unis,Suisse</td>\n",
       "    </tr>\n",
       "    <tr>\n",
       "      <th>4</th>\n",
       "      <td>Shiraz/Syrah</td>\n",
       "      <td>551112</td>\n",
       "      <td>3</td>\n",
       "      <td>Australie,Afrique du Sud,Israël</td>\n",
       "    </tr>\n",
       "    <tr>\n",
       "      <th>5</th>\n",
       "      <td>Tempranillo</td>\n",
       "      <td>172842</td>\n",
       "      <td>1</td>\n",
       "      <td>Espagne</td>\n",
       "    </tr>\n",
       "    <tr>\n",
       "      <th>6</th>\n",
       "      <td>Sangiovese</td>\n",
       "      <td>125094</td>\n",
       "      <td>1</td>\n",
       "      <td>Italie</td>\n",
       "    </tr>\n",
       "    <tr>\n",
       "      <th>7</th>\n",
       "      <td>Riesling</td>\n",
       "      <td>262136</td>\n",
       "      <td>1</td>\n",
       "      <td>Allemagne</td>\n",
       "    </tr>\n",
       "    <tr>\n",
       "      <th>8</th>\n",
       "      <td>Malbec</td>\n",
       "      <td>219735</td>\n",
       "      <td>1</td>\n",
       "      <td>Argentine</td>\n",
       "    </tr>\n",
       "  </tbody>\n",
       "</table>\n",
       "</div>"
      ],
      "text/plain": [
       "           grape_name  wines_count  num_available_countries  \\\n",
       "0  Cabernet Sauvignon       801751                       12   \n",
       "1              Merlot       566719                       11   \n",
       "2          Chardonnay       604208                        6   \n",
       "3          Pinot Noir       572334                        3   \n",
       "4        Shiraz/Syrah       551112                        3   \n",
       "5         Tempranillo       172842                        1   \n",
       "6          Sangiovese       125094                        1   \n",
       "7            Riesling       262136                        1   \n",
       "8              Malbec       219735                        1   \n",
       "\n",
       "                                  used_in_wines_from  \n",
       "0  États-Unis,Espagne,Australie,Hongrie,Afrique d...  \n",
       "1  Italie,France,Hongrie,Afrique du Sud,Chili,Mol...  \n",
       "2  Italie,France,États-Unis,Australie,Moldavie,Ar...  \n",
       "3                           France,États-Unis,Suisse  \n",
       "4                    Australie,Afrique du Sud,Israël  \n",
       "5                                            Espagne  \n",
       "6                                             Italie  \n",
       "7                                          Allemagne  \n",
       "8                                          Argentine  "
      ]
     },
     "metadata": {},
     "output_type": "display_data"
    }
   ],
   "source": [
    "# 1. Find the top 3 most common grape all over the world \n",
    "\n",
    "query_4 = text(\n",
    "    \"\"\"\n",
    "    SELECT\n",
    "        grapes.name AS grape_name,\n",
    "        most_used_grapes_per_country.wines_count AS wines_count,\n",
    "        count(most_used_grapes_per_country.country_code) AS num_available_countries,\n",
    "        GROUP_CONCAT(countries.name) AS used_in_wines_from\n",
    "    FROM\n",
    "        most_used_grapes_per_country\n",
    "    LEFT JOIN \n",
    "        grapes ON most_used_grapes_per_country.grape_id = grapes.id\n",
    "    LEFT JOIN \n",
    "        countries ON most_used_grapes_per_country.country_code = countries.code\n",
    "    WHERE\n",
    "        most_used_grapes_per_country.wines_count > 100000\n",
    "    GROUP BY \n",
    "        most_used_grapes_per_country.grape_id\n",
    "    ORDER BY\n",
    "        num_available_countries DESC\n",
    "    LIMIT 10;\n",
    "    \"\"\"\n",
    ")\n",
    "query_4 = vivino_session.execute(query_4)\n",
    "\n",
    "## Fetch query_4 and initialize into df_most_common_grapes\n",
    "fetch_query_4 = query_4.fetchall()\n",
    "df_most_common_grapes = pd.DataFrame(\n",
    "    fetch_query_4,\n",
    "    columns=query_4.keys()\n",
    ")\n",
    "\n",
    "## display df_most_common_grapes\n",
    "display(df_most_common_grapes)\n",
    "\n"
   ]
  },
  {
   "cell_type": "markdown",
   "metadata": {},
   "source": [
    "Based on the information above, here are the top 3 grape varieties based on their usage in different wines throughout the world\n",
    " 1. Cabernet Sauvignon\n",
    " 2. Merlot\n",
    " 3. Chardonnay"
   ]
  },
  {
   "cell_type": "code",
   "execution_count": 9,
   "metadata": {},
   "outputs": [
    {
     "name": "stdout",
     "output_type": "stream",
     "text": [
      "2023-09-01 08:53:18,759 INFO sqlalchemy.engine.Engine \n",
      "    SELECT\n",
      "        wines.name,\n",
      "        wines.ratings_average AS ranks,\n",
      "        wines.ratings_count AS review_amount,\n",
      "        most_used_grapes_per_country.grape_id AS grapes_id,\n",
      "        grapes.name AS grapes_name,\n",
      "        regions.name AS region_name,\n",
      "        countries.name AS country_name\n",
      "    FROM\n",
      "        wines\n",
      "    JOIN \n",
      "        regions ON wines.region_id = regions.id\n",
      "    JOIN \n",
      "        countries ON regions.country_code = countries.code\n",
      "    JOIN \n",
      "        most_used_grapes_per_country ON countries.code = most_used_grapes_per_country.country_code\n",
      "    LEFT JOIN \n",
      "        grapes ON most_used_grapes_per_country.grape_id = grapes.id\n",
      "    WHERE\n",
      "        grapes.name = 'Cabernet Sauvignon'\n",
      "        AND wines.ratings_average >= 4.5\n",
      "    ORDER BY \n",
      "        review_amount DESC\n",
      "    LIMIT 5;\n",
      "    \n"
     ]
    },
    {
     "name": "stderr",
     "output_type": "stream",
     "text": [
      "INFO:sqlalchemy.engine.Engine:\n",
      "    SELECT\n",
      "        wines.name,\n",
      "        wines.ratings_average AS ranks,\n",
      "        wines.ratings_count AS review_amount,\n",
      "        most_used_grapes_per_country.grape_id AS grapes_id,\n",
      "        grapes.name AS grapes_name,\n",
      "        regions.name AS region_name,\n",
      "        countries.name AS country_name\n",
      "    FROM\n",
      "        wines\n",
      "    JOIN \n",
      "        regions ON wines.region_id = regions.id\n",
      "    JOIN \n",
      "        countries ON regions.country_code = countries.code\n",
      "    JOIN \n",
      "        most_used_grapes_per_country ON countries.code = most_used_grapes_per_country.country_code\n",
      "    LEFT JOIN \n",
      "        grapes ON most_used_grapes_per_country.grape_id = grapes.id\n",
      "    WHERE\n",
      "        grapes.name = 'Cabernet Sauvignon'\n",
      "        AND wines.ratings_average >= 4.5\n",
      "    ORDER BY \n",
      "        review_amount DESC\n",
      "    LIMIT 5;\n",
      "    \n"
     ]
    },
    {
     "name": "stdout",
     "output_type": "stream",
     "text": [
      "2023-09-01 08:53:18,760 INFO sqlalchemy.engine.Engine [generated in 0.00078s] ()\n"
     ]
    },
    {
     "name": "stderr",
     "output_type": "stream",
     "text": [
      "INFO:sqlalchemy.engine.Engine:[generated in 0.00078s] ()\n"
     ]
    },
    {
     "data": {
      "text/html": [
       "<div>\n",
       "<style scoped>\n",
       "    .dataframe tbody tr th:only-of-type {\n",
       "        vertical-align: middle;\n",
       "    }\n",
       "\n",
       "    .dataframe tbody tr th {\n",
       "        vertical-align: top;\n",
       "    }\n",
       "\n",
       "    .dataframe thead th {\n",
       "        text-align: right;\n",
       "    }\n",
       "</style>\n",
       "<table border=\"1\" class=\"dataframe\">\n",
       "  <thead>\n",
       "    <tr style=\"text-align: right;\">\n",
       "      <th></th>\n",
       "      <th>name</th>\n",
       "      <th>ranks</th>\n",
       "      <th>review_amount</th>\n",
       "      <th>grapes_id</th>\n",
       "      <th>grapes_name</th>\n",
       "      <th>region_name</th>\n",
       "      <th>country_name</th>\n",
       "    </tr>\n",
       "  </thead>\n",
       "  <tbody>\n",
       "    <tr>\n",
       "      <th>0</th>\n",
       "      <td>Cabernet Sauvignon</td>\n",
       "      <td>4.6</td>\n",
       "      <td>157944</td>\n",
       "      <td>2</td>\n",
       "      <td>Cabernet Sauvignon</td>\n",
       "      <td>Napa Valley</td>\n",
       "      <td>États-Unis</td>\n",
       "    </tr>\n",
       "    <tr>\n",
       "      <th>1</th>\n",
       "      <td>Opus One</td>\n",
       "      <td>4.6</td>\n",
       "      <td>77053</td>\n",
       "      <td>2</td>\n",
       "      <td>Cabernet Sauvignon</td>\n",
       "      <td>Napa Valley</td>\n",
       "      <td>États-Unis</td>\n",
       "    </tr>\n",
       "    <tr>\n",
       "      <th>2</th>\n",
       "      <td>Valbuena 5º</td>\n",
       "      <td>4.6</td>\n",
       "      <td>72784</td>\n",
       "      <td>2</td>\n",
       "      <td>Cabernet Sauvignon</td>\n",
       "      <td>Ribera del Duero</td>\n",
       "      <td>Espagne</td>\n",
       "    </tr>\n",
       "    <tr>\n",
       "      <th>3</th>\n",
       "      <td>Ribera del Duero</td>\n",
       "      <td>4.5</td>\n",
       "      <td>69278</td>\n",
       "      <td>2</td>\n",
       "      <td>Cabernet Sauvignon</td>\n",
       "      <td>Ribera del Duero</td>\n",
       "      <td>Espagne</td>\n",
       "    </tr>\n",
       "    <tr>\n",
       "      <th>4</th>\n",
       "      <td>Almaviva</td>\n",
       "      <td>4.6</td>\n",
       "      <td>48075</td>\n",
       "      <td>2</td>\n",
       "      <td>Cabernet Sauvignon</td>\n",
       "      <td>Puente Alto</td>\n",
       "      <td>Chili</td>\n",
       "    </tr>\n",
       "  </tbody>\n",
       "</table>\n",
       "</div>"
      ],
      "text/plain": [
       "                 name  ranks  review_amount  grapes_id         grapes_name  \\\n",
       "0  Cabernet Sauvignon    4.6         157944          2  Cabernet Sauvignon   \n",
       "1            Opus One    4.6          77053          2  Cabernet Sauvignon   \n",
       "2         Valbuena 5º    4.6          72784          2  Cabernet Sauvignon   \n",
       "3    Ribera del Duero    4.5          69278          2  Cabernet Sauvignon   \n",
       "4            Almaviva    4.6          48075          2  Cabernet Sauvignon   \n",
       "\n",
       "        region_name country_name  \n",
       "0       Napa Valley   États-Unis  \n",
       "1       Napa Valley   États-Unis  \n",
       "2  Ribera del Duero      Espagne  \n",
       "3  Ribera del Duero      Espagne  \n",
       "4       Puente Alto        Chili  "
      ]
     },
     "metadata": {},
     "output_type": "display_data"
    },
    {
     "name": "stdout",
     "output_type": "stream",
     "text": [
      "2023-09-01 08:53:18,764 INFO sqlalchemy.engine.Engine \n",
      "    SELECT\n",
      "        wines.name,\n",
      "        wines.ratings_average AS ranks,\n",
      "        wines.ratings_count AS review_amount,\n",
      "        most_used_grapes_per_country.grape_id AS grapes_id,\n",
      "        grapes.name AS grapes_name,\n",
      "        regions.name AS region_name,\n",
      "        countries.name AS country_name\n",
      "    FROM\n",
      "        wines\n",
      "    JOIN \n",
      "        regions ON wines.region_id = regions.id\n",
      "    JOIN \n",
      "        countries ON regions.country_code = countries.code\n",
      "    JOIN \n",
      "        most_used_grapes_per_country ON countries.code = most_used_grapes_per_country.country_code\n",
      "    LEFT JOIN \n",
      "        grapes ON most_used_grapes_per_country.grape_id = grapes.id\n",
      "    WHERE\n",
      "        grapes.name = 'Merlot'\n",
      "        AND wines.ratings_average >= 4.5\n",
      "    ORDER BY \n",
      "        review_amount DESC\n",
      "    LIMIT 5;\n",
      "    \n"
     ]
    },
    {
     "name": "stderr",
     "output_type": "stream",
     "text": [
      "INFO:sqlalchemy.engine.Engine:\n",
      "    SELECT\n",
      "        wines.name,\n",
      "        wines.ratings_average AS ranks,\n",
      "        wines.ratings_count AS review_amount,\n",
      "        most_used_grapes_per_country.grape_id AS grapes_id,\n",
      "        grapes.name AS grapes_name,\n",
      "        regions.name AS region_name,\n",
      "        countries.name AS country_name\n",
      "    FROM\n",
      "        wines\n",
      "    JOIN \n",
      "        regions ON wines.region_id = regions.id\n",
      "    JOIN \n",
      "        countries ON regions.country_code = countries.code\n",
      "    JOIN \n",
      "        most_used_grapes_per_country ON countries.code = most_used_grapes_per_country.country_code\n",
      "    LEFT JOIN \n",
      "        grapes ON most_used_grapes_per_country.grape_id = grapes.id\n",
      "    WHERE\n",
      "        grapes.name = 'Merlot'\n",
      "        AND wines.ratings_average >= 4.5\n",
      "    ORDER BY \n",
      "        review_amount DESC\n",
      "    LIMIT 5;\n",
      "    \n"
     ]
    },
    {
     "name": "stdout",
     "output_type": "stream",
     "text": [
      "2023-09-01 08:53:18,765 INFO sqlalchemy.engine.Engine [generated in 0.00079s] ()\n"
     ]
    },
    {
     "name": "stderr",
     "output_type": "stream",
     "text": [
      "INFO:sqlalchemy.engine.Engine:[generated in 0.00079s] ()\n"
     ]
    },
    {
     "data": {
      "text/html": [
       "<div>\n",
       "<style scoped>\n",
       "    .dataframe tbody tr th:only-of-type {\n",
       "        vertical-align: middle;\n",
       "    }\n",
       "\n",
       "    .dataframe tbody tr th {\n",
       "        vertical-align: top;\n",
       "    }\n",
       "\n",
       "    .dataframe thead th {\n",
       "        text-align: right;\n",
       "    }\n",
       "</style>\n",
       "<table border=\"1\" class=\"dataframe\">\n",
       "  <thead>\n",
       "    <tr style=\"text-align: right;\">\n",
       "      <th></th>\n",
       "      <th>name</th>\n",
       "      <th>ranks</th>\n",
       "      <th>review_amount</th>\n",
       "      <th>grapes_id</th>\n",
       "      <th>grapes_name</th>\n",
       "      <th>region_name</th>\n",
       "      <th>country_name</th>\n",
       "    </tr>\n",
       "  </thead>\n",
       "  <tbody>\n",
       "    <tr>\n",
       "      <th>0</th>\n",
       "      <td>Brut Champagne</td>\n",
       "      <td>4.6</td>\n",
       "      <td>146377</td>\n",
       "      <td>10</td>\n",
       "      <td>Merlot</td>\n",
       "      <td>Champagne</td>\n",
       "      <td>France</td>\n",
       "    </tr>\n",
       "    <tr>\n",
       "      <th>1</th>\n",
       "      <td>Tignanello</td>\n",
       "      <td>4.5</td>\n",
       "      <td>142513</td>\n",
       "      <td>10</td>\n",
       "      <td>Merlot</td>\n",
       "      <td>Toscana</td>\n",
       "      <td>Italie</td>\n",
       "    </tr>\n",
       "    <tr>\n",
       "      <th>2</th>\n",
       "      <td>Sassicaia</td>\n",
       "      <td>4.6</td>\n",
       "      <td>107646</td>\n",
       "      <td>10</td>\n",
       "      <td>Merlot</td>\n",
       "      <td>Bolgheri Sassicaia</td>\n",
       "      <td>Italie</td>\n",
       "    </tr>\n",
       "    <tr>\n",
       "      <th>3</th>\n",
       "      <td>60 Sessantanni Old Vines Primitivo di Manduria</td>\n",
       "      <td>4.5</td>\n",
       "      <td>94289</td>\n",
       "      <td>10</td>\n",
       "      <td>Merlot</td>\n",
       "      <td>Primitivo di Manduria</td>\n",
       "      <td>Italie</td>\n",
       "    </tr>\n",
       "    <tr>\n",
       "      <th>4</th>\n",
       "      <td>Pauillac (Premier Grand Cru Classé)</td>\n",
       "      <td>4.6</td>\n",
       "      <td>73615</td>\n",
       "      <td>10</td>\n",
       "      <td>Merlot</td>\n",
       "      <td>Pauillac</td>\n",
       "      <td>France</td>\n",
       "    </tr>\n",
       "  </tbody>\n",
       "</table>\n",
       "</div>"
      ],
      "text/plain": [
       "                                             name  ranks  review_amount  \\\n",
       "0                                  Brut Champagne    4.6         146377   \n",
       "1                                      Tignanello    4.5         142513   \n",
       "2                                       Sassicaia    4.6         107646   \n",
       "3  60 Sessantanni Old Vines Primitivo di Manduria    4.5          94289   \n",
       "4             Pauillac (Premier Grand Cru Classé)    4.6          73615   \n",
       "\n",
       "   grapes_id grapes_name            region_name country_name  \n",
       "0         10      Merlot              Champagne       France  \n",
       "1         10      Merlot                Toscana       Italie  \n",
       "2         10      Merlot     Bolgheri Sassicaia       Italie  \n",
       "3         10      Merlot  Primitivo di Manduria       Italie  \n",
       "4         10      Merlot               Pauillac       France  "
      ]
     },
     "metadata": {},
     "output_type": "display_data"
    },
    {
     "name": "stdout",
     "output_type": "stream",
     "text": [
      "2023-09-01 08:53:18,769 INFO sqlalchemy.engine.Engine \n",
      "    SELECT\n",
      "        wines.name,\n",
      "        wines.ratings_average AS ranks,\n",
      "        wines.ratings_count AS review_amount,\n",
      "        most_used_grapes_per_country.grape_id AS grapes_id,\n",
      "        grapes.name AS grapes_name,\n",
      "        regions.name AS region_name,\n",
      "        countries.name AS country_name\n",
      "    FROM\n",
      "        wines\n",
      "    JOIN \n",
      "        regions ON wines.region_id = regions.id\n",
      "    JOIN \n",
      "        countries ON regions.country_code = countries.code\n",
      "    JOIN \n",
      "        most_used_grapes_per_country ON countries.code = most_used_grapes_per_country.country_code\n",
      "    LEFT JOIN \n",
      "        grapes ON most_used_grapes_per_country.grape_id = grapes.id\n",
      "    WHERE\n",
      "        grapes.name = 'Chardonnay'\n",
      "        AND wines.ratings_average >= 4.5\n",
      "    ORDER BY \n",
      "        review_amount DESC\n",
      "    LIMIT 5;\n",
      "    \n"
     ]
    },
    {
     "name": "stderr",
     "output_type": "stream",
     "text": [
      "INFO:sqlalchemy.engine.Engine:\n",
      "    SELECT\n",
      "        wines.name,\n",
      "        wines.ratings_average AS ranks,\n",
      "        wines.ratings_count AS review_amount,\n",
      "        most_used_grapes_per_country.grape_id AS grapes_id,\n",
      "        grapes.name AS grapes_name,\n",
      "        regions.name AS region_name,\n",
      "        countries.name AS country_name\n",
      "    FROM\n",
      "        wines\n",
      "    JOIN \n",
      "        regions ON wines.region_id = regions.id\n",
      "    JOIN \n",
      "        countries ON regions.country_code = countries.code\n",
      "    JOIN \n",
      "        most_used_grapes_per_country ON countries.code = most_used_grapes_per_country.country_code\n",
      "    LEFT JOIN \n",
      "        grapes ON most_used_grapes_per_country.grape_id = grapes.id\n",
      "    WHERE\n",
      "        grapes.name = 'Chardonnay'\n",
      "        AND wines.ratings_average >= 4.5\n",
      "    ORDER BY \n",
      "        review_amount DESC\n",
      "    LIMIT 5;\n",
      "    \n"
     ]
    },
    {
     "name": "stdout",
     "output_type": "stream",
     "text": [
      "2023-09-01 08:53:18,769 INFO sqlalchemy.engine.Engine [generated in 0.00046s] ()\n"
     ]
    },
    {
     "name": "stderr",
     "output_type": "stream",
     "text": [
      "INFO:sqlalchemy.engine.Engine:[generated in 0.00046s] ()\n"
     ]
    },
    {
     "data": {
      "text/html": [
       "<div>\n",
       "<style scoped>\n",
       "    .dataframe tbody tr th:only-of-type {\n",
       "        vertical-align: middle;\n",
       "    }\n",
       "\n",
       "    .dataframe tbody tr th {\n",
       "        vertical-align: top;\n",
       "    }\n",
       "\n",
       "    .dataframe thead th {\n",
       "        text-align: right;\n",
       "    }\n",
       "</style>\n",
       "<table border=\"1\" class=\"dataframe\">\n",
       "  <thead>\n",
       "    <tr style=\"text-align: right;\">\n",
       "      <th></th>\n",
       "      <th>name</th>\n",
       "      <th>ranks</th>\n",
       "      <th>review_amount</th>\n",
       "      <th>grapes_id</th>\n",
       "      <th>grapes_name</th>\n",
       "      <th>region_name</th>\n",
       "      <th>country_name</th>\n",
       "    </tr>\n",
       "  </thead>\n",
       "  <tbody>\n",
       "    <tr>\n",
       "      <th>0</th>\n",
       "      <td>Cabernet Sauvignon</td>\n",
       "      <td>4.6</td>\n",
       "      <td>157944</td>\n",
       "      <td>5</td>\n",
       "      <td>Chardonnay</td>\n",
       "      <td>Napa Valley</td>\n",
       "      <td>États-Unis</td>\n",
       "    </tr>\n",
       "    <tr>\n",
       "      <th>1</th>\n",
       "      <td>Brut Champagne</td>\n",
       "      <td>4.6</td>\n",
       "      <td>146377</td>\n",
       "      <td>5</td>\n",
       "      <td>Chardonnay</td>\n",
       "      <td>Champagne</td>\n",
       "      <td>France</td>\n",
       "    </tr>\n",
       "    <tr>\n",
       "      <th>2</th>\n",
       "      <td>Tignanello</td>\n",
       "      <td>4.5</td>\n",
       "      <td>142513</td>\n",
       "      <td>5</td>\n",
       "      <td>Chardonnay</td>\n",
       "      <td>Toscana</td>\n",
       "      <td>Italie</td>\n",
       "    </tr>\n",
       "    <tr>\n",
       "      <th>3</th>\n",
       "      <td>Sassicaia</td>\n",
       "      <td>4.6</td>\n",
       "      <td>107646</td>\n",
       "      <td>5</td>\n",
       "      <td>Chardonnay</td>\n",
       "      <td>Bolgheri Sassicaia</td>\n",
       "      <td>Italie</td>\n",
       "    </tr>\n",
       "    <tr>\n",
       "      <th>4</th>\n",
       "      <td>60 Sessantanni Old Vines Primitivo di Manduria</td>\n",
       "      <td>4.5</td>\n",
       "      <td>94289</td>\n",
       "      <td>5</td>\n",
       "      <td>Chardonnay</td>\n",
       "      <td>Primitivo di Manduria</td>\n",
       "      <td>Italie</td>\n",
       "    </tr>\n",
       "  </tbody>\n",
       "</table>\n",
       "</div>"
      ],
      "text/plain": [
       "                                             name  ranks  review_amount  \\\n",
       "0                              Cabernet Sauvignon    4.6         157944   \n",
       "1                                  Brut Champagne    4.6         146377   \n",
       "2                                      Tignanello    4.5         142513   \n",
       "3                                       Sassicaia    4.6         107646   \n",
       "4  60 Sessantanni Old Vines Primitivo di Manduria    4.5          94289   \n",
       "\n",
       "   grapes_id grapes_name            region_name country_name  \n",
       "0          5  Chardonnay            Napa Valley   États-Unis  \n",
       "1          5  Chardonnay              Champagne       France  \n",
       "2          5  Chardonnay                Toscana       Italie  \n",
       "3          5  Chardonnay     Bolgheri Sassicaia       Italie  \n",
       "4          5  Chardonnay  Primitivo di Manduria       Italie  "
      ]
     },
     "metadata": {},
     "output_type": "display_data"
    }
   ],
   "source": [
    "# 2. For each grape, give us the the 5 best rated wines.\n",
    "\n",
    "# Churning 5 best rated wines per df_most_common_grapes['grape_name']\n",
    "top_grapes = df_most_common_grapes['grape_name'].tolist()\n",
    "\n",
    "## query top 5 cabernet sauvignon wines\n",
    "query_cabernet_sauvignon = text(f\"\"\"\n",
    "    SELECT\n",
    "        wines.name,\n",
    "        wines.ratings_average AS ranks,\n",
    "        wines.ratings_count AS review_amount,\n",
    "        most_used_grapes_per_country.grape_id AS grapes_id,\n",
    "        grapes.name AS grapes_name,\n",
    "        regions.name AS region_name,\n",
    "        countries.name AS country_name\n",
    "    FROM\n",
    "        wines\n",
    "    JOIN \n",
    "        regions ON wines.region_id = regions.id\n",
    "    JOIN \n",
    "        countries ON regions.country_code = countries.code\n",
    "    JOIN \n",
    "        most_used_grapes_per_country ON countries.code = most_used_grapes_per_country.country_code\n",
    "    LEFT JOIN \n",
    "        grapes ON most_used_grapes_per_country.grape_id = grapes.id\n",
    "    WHERE\n",
    "        grapes.name = '{top_grapes[0]}'\n",
    "        AND wines.ratings_average >= 4.5\n",
    "    ORDER BY \n",
    "        review_amount DESC\n",
    "    LIMIT 5;\n",
    "    \"\"\"\n",
    ")\n",
    "query_cabernet_sauvignon = vivino_session.execute(query_cabernet_sauvignon)\n",
    "\n",
    "## Fetch query_cabernet_sauvignon and initialize into df_cabernet_sauvignon\n",
    "fetch_query_cabernet_sauvignon = query_cabernet_sauvignon.fetchall()\n",
    "df_cabernet_sauvignon = pd.DataFrame(\n",
    "    fetch_query_cabernet_sauvignon,\n",
    "    columns=query_cabernet_sauvignon.keys()\n",
    ")\n",
    "\n",
    "## display df_cabernet_sauvignon\n",
    "display(df_cabernet_sauvignon)\n",
    "\n",
    "## query top 5 merlot wines\n",
    "query_merlot =  text(f\"\"\"\n",
    "    SELECT\n",
    "        wines.name,\n",
    "        wines.ratings_average AS ranks,\n",
    "        wines.ratings_count AS review_amount,\n",
    "        most_used_grapes_per_country.grape_id AS grapes_id,\n",
    "        grapes.name AS grapes_name,\n",
    "        regions.name AS region_name,\n",
    "        countries.name AS country_name\n",
    "    FROM\n",
    "        wines\n",
    "    JOIN \n",
    "        regions ON wines.region_id = regions.id\n",
    "    JOIN \n",
    "        countries ON regions.country_code = countries.code\n",
    "    JOIN \n",
    "        most_used_grapes_per_country ON countries.code = most_used_grapes_per_country.country_code\n",
    "    LEFT JOIN \n",
    "        grapes ON most_used_grapes_per_country.grape_id = grapes.id\n",
    "    WHERE\n",
    "        grapes.name = '{top_grapes[1]}'\n",
    "        AND wines.ratings_average >= 4.5\n",
    "    ORDER BY \n",
    "        review_amount DESC\n",
    "    LIMIT 5;\n",
    "    \"\"\"\n",
    ")\n",
    "query_merlot = vivino_session.execute(query_merlot)\n",
    "\n",
    "## Fetch query_merlot and initialize into df_merlot\n",
    "fetch_query_merlot = query_merlot.fetchall()\n",
    "df_merlot = pd.DataFrame(\n",
    "    fetch_query_merlot,\n",
    "    columns=query_merlot.keys()\n",
    ")\n",
    "\n",
    "## display df_merlot\n",
    "display(df_merlot)\n",
    "\n",
    "## query top 5 Chardonnay wines\n",
    "query_chardonnay =  text(f\"\"\"\n",
    "    SELECT\n",
    "        wines.name,\n",
    "        wines.ratings_average AS ranks,\n",
    "        wines.ratings_count AS review_amount,\n",
    "        most_used_grapes_per_country.grape_id AS grapes_id,\n",
    "        grapes.name AS grapes_name,\n",
    "        regions.name AS region_name,\n",
    "        countries.name AS country_name\n",
    "    FROM\n",
    "        wines\n",
    "    JOIN \n",
    "        regions ON wines.region_id = regions.id\n",
    "    JOIN \n",
    "        countries ON regions.country_code = countries.code\n",
    "    JOIN \n",
    "        most_used_grapes_per_country ON countries.code = most_used_grapes_per_country.country_code\n",
    "    LEFT JOIN \n",
    "        grapes ON most_used_grapes_per_country.grape_id = grapes.id\n",
    "    WHERE\n",
    "        grapes.name = '{top_grapes[2]}'\n",
    "        AND wines.ratings_average >= 4.5\n",
    "    ORDER BY \n",
    "        review_amount DESC\n",
    "    LIMIT 5;\n",
    "    \"\"\"\n",
    ")\n",
    "query_chardonnay = vivino_session.execute(query_chardonnay)\n",
    "\n",
    "## Fetch query_chardonnay and initialize into df_chardonnay\n",
    "fetch_query_chardonnay = query_chardonnay.fetchall()\n",
    "df_chardonnay = pd.DataFrame(\n",
    "    fetch_query_chardonnay,\n",
    "    columns=query_chardonnay.keys()\n",
    ")\n",
    "\n",
    "## display df_chardonnay\n",
    "display(df_chardonnay)\n",
    "\n"
   ]
  },
  {
   "cell_type": "markdown",
   "metadata": {},
   "source": [
    "The information above highlights 5 best-rated wines for each grape variety based on their overall 'ranks' and 'review_amount'\n",
    "\n",
    "For those who likes wines using Cabernet Sauvignon grape variety, we are happy to recommend these wines\n",
    " 1. Cabernet Sauvignon - Napa Valley - USA\n",
    " 2. Opus One - Napa Valley - USA\n",
    " 3. Valbuena 5º - Ribera del Duero - Spain\n",
    " 4. Ribera del Duero - Ribera del Duero - Spain\n",
    " 5. Almaviva - Puente Alto - Chili"
   ]
  },
  {
   "cell_type": "markdown",
   "metadata": {},
   "source": [
    "## QUESTION 5\n",
    "\n",
    "We would to give create a country leaderboard,\n",
    "give us a visual that shows the average wine rating for each country"
   ]
  },
  {
   "cell_type": "code",
   "execution_count": 10,
   "metadata": {},
   "outputs": [
    {
     "name": "stdout",
     "output_type": "stream",
     "text": [
      "2023-09-01 08:53:18,777 INFO sqlalchemy.engine.Engine \n",
      "    SELECT\n",
      "        countries.name AS country_name,\n",
      "        count(wines.name) AS wine_count,\n",
      "        avg(wines.ratings_average) AS avg_rating,\n",
      "        sum(wines.ratings_count) AS total_reviews\n",
      "    FROM\n",
      "        wines\n",
      "    INNER JOIN \n",
      "        regions ON wines.region_id = regions.id\n",
      "    INNER JOIN \n",
      "        countries ON regions.country_code = countries.code\n",
      "    GROUP BY \n",
      "        countries.name\n",
      "    ORDER BY \n",
      "        avg_rating DESC;\n",
      "    \n"
     ]
    },
    {
     "name": "stderr",
     "output_type": "stream",
     "text": [
      "INFO:sqlalchemy.engine.Engine:\n",
      "    SELECT\n",
      "        countries.name AS country_name,\n",
      "        count(wines.name) AS wine_count,\n",
      "        avg(wines.ratings_average) AS avg_rating,\n",
      "        sum(wines.ratings_count) AS total_reviews\n",
      "    FROM\n",
      "        wines\n",
      "    INNER JOIN \n",
      "        regions ON wines.region_id = regions.id\n",
      "    INNER JOIN \n",
      "        countries ON regions.country_code = countries.code\n",
      "    GROUP BY \n",
      "        countries.name\n",
      "    ORDER BY \n",
      "        avg_rating DESC;\n",
      "    \n"
     ]
    },
    {
     "name": "stdout",
     "output_type": "stream",
     "text": [
      "2023-09-01 08:53:18,778 INFO sqlalchemy.engine.Engine [generated in 0.00061s] ()\n"
     ]
    },
    {
     "name": "stderr",
     "output_type": "stream",
     "text": [
      "INFO:sqlalchemy.engine.Engine:[generated in 0.00061s] ()\n"
     ]
    },
    {
     "data": {
      "text/html": [
       "<div>\n",
       "<style scoped>\n",
       "    .dataframe tbody tr th:only-of-type {\n",
       "        vertical-align: middle;\n",
       "    }\n",
       "\n",
       "    .dataframe tbody tr th {\n",
       "        vertical-align: top;\n",
       "    }\n",
       "\n",
       "    .dataframe thead th {\n",
       "        text-align: right;\n",
       "    }\n",
       "</style>\n",
       "<table border=\"1\" class=\"dataframe\">\n",
       "  <thead>\n",
       "    <tr style=\"text-align: right;\">\n",
       "      <th></th>\n",
       "      <th>country_name</th>\n",
       "      <th>wine_count</th>\n",
       "      <th>avg_rating</th>\n",
       "      <th>total_reviews</th>\n",
       "    </tr>\n",
       "  </thead>\n",
       "  <tbody>\n",
       "    <tr>\n",
       "      <th>0</th>\n",
       "      <td>Allemagne</td>\n",
       "      <td>14</td>\n",
       "      <td>4.500000</td>\n",
       "      <td>8257</td>\n",
       "    </tr>\n",
       "    <tr>\n",
       "      <th>1</th>\n",
       "      <td>Israël</td>\n",
       "      <td>1</td>\n",
       "      <td>4.500000</td>\n",
       "      <td>894</td>\n",
       "    </tr>\n",
       "    <tr>\n",
       "      <th>2</th>\n",
       "      <td>États-Unis</td>\n",
       "      <td>74</td>\n",
       "      <td>4.490541</td>\n",
       "      <td>834263</td>\n",
       "    </tr>\n",
       "    <tr>\n",
       "      <th>3</th>\n",
       "      <td>Moldavie</td>\n",
       "      <td>5</td>\n",
       "      <td>4.480000</td>\n",
       "      <td>14114</td>\n",
       "    </tr>\n",
       "    <tr>\n",
       "      <th>4</th>\n",
       "      <td>Hongrie</td>\n",
       "      <td>11</td>\n",
       "      <td>4.472727</td>\n",
       "      <td>30564</td>\n",
       "    </tr>\n",
       "    <tr>\n",
       "      <th>5</th>\n",
       "      <td>Afrique du Sud</td>\n",
       "      <td>22</td>\n",
       "      <td>4.459091</td>\n",
       "      <td>59995</td>\n",
       "    </tr>\n",
       "    <tr>\n",
       "      <th>6</th>\n",
       "      <td>Australie</td>\n",
       "      <td>12</td>\n",
       "      <td>4.458333</td>\n",
       "      <td>52138</td>\n",
       "    </tr>\n",
       "    <tr>\n",
       "      <th>7</th>\n",
       "      <td>France</td>\n",
       "      <td>331</td>\n",
       "      <td>4.447130</td>\n",
       "      <td>2124809</td>\n",
       "    </tr>\n",
       "    <tr>\n",
       "      <th>8</th>\n",
       "      <td>Espagne</td>\n",
       "      <td>94</td>\n",
       "      <td>4.443617</td>\n",
       "      <td>746710</td>\n",
       "    </tr>\n",
       "    <tr>\n",
       "      <th>9</th>\n",
       "      <td>Portugal</td>\n",
       "      <td>28</td>\n",
       "      <td>4.435714</td>\n",
       "      <td>62454</td>\n",
       "    </tr>\n",
       "    <tr>\n",
       "      <th>10</th>\n",
       "      <td>Chili</td>\n",
       "      <td>16</td>\n",
       "      <td>4.431250</td>\n",
       "      <td>159256</td>\n",
       "    </tr>\n",
       "    <tr>\n",
       "      <th>11</th>\n",
       "      <td>Italie</td>\n",
       "      <td>383</td>\n",
       "      <td>4.430026</td>\n",
       "      <td>2135839</td>\n",
       "    </tr>\n",
       "    <tr>\n",
       "      <th>12</th>\n",
       "      <td>Argentine</td>\n",
       "      <td>23</td>\n",
       "      <td>4.417391</td>\n",
       "      <td>283673</td>\n",
       "    </tr>\n",
       "    <tr>\n",
       "      <th>13</th>\n",
       "      <td>Roumanie</td>\n",
       "      <td>1</td>\n",
       "      <td>4.400000</td>\n",
       "      <td>166</td>\n",
       "    </tr>\n",
       "    <tr>\n",
       "      <th>14</th>\n",
       "      <td>Grèce</td>\n",
       "      <td>2</td>\n",
       "      <td>4.400000</td>\n",
       "      <td>610</td>\n",
       "    </tr>\n",
       "    <tr>\n",
       "      <th>15</th>\n",
       "      <td>Suisse</td>\n",
       "      <td>2</td>\n",
       "      <td>4.350000</td>\n",
       "      <td>1047</td>\n",
       "    </tr>\n",
       "    <tr>\n",
       "      <th>16</th>\n",
       "      <td>Croatie</td>\n",
       "      <td>1</td>\n",
       "      <td>4.300000</td>\n",
       "      <td>292</td>\n",
       "    </tr>\n",
       "  </tbody>\n",
       "</table>\n",
       "</div>"
      ],
      "text/plain": [
       "      country_name  wine_count  avg_rating  total_reviews\n",
       "0        Allemagne          14    4.500000           8257\n",
       "1           Israël           1    4.500000            894\n",
       "2       États-Unis          74    4.490541         834263\n",
       "3         Moldavie           5    4.480000          14114\n",
       "4          Hongrie          11    4.472727          30564\n",
       "5   Afrique du Sud          22    4.459091          59995\n",
       "6        Australie          12    4.458333          52138\n",
       "7           France         331    4.447130        2124809\n",
       "8          Espagne          94    4.443617         746710\n",
       "9         Portugal          28    4.435714          62454\n",
       "10           Chili          16    4.431250         159256\n",
       "11          Italie         383    4.430026        2135839\n",
       "12       Argentine          23    4.417391         283673\n",
       "13        Roumanie           1    4.400000            166\n",
       "14           Grèce           2    4.400000            610\n",
       "15          Suisse           2    4.350000           1047\n",
       "16         Croatie           1    4.300000            292"
      ]
     },
     "metadata": {},
     "output_type": "display_data"
    }
   ],
   "source": [
    "# Identify countries with highest count of top - rated retail wines based on its aggregated wine ratings\n",
    "query_retail_wines = text(\n",
    "    \"\"\"\n",
    "    SELECT\n",
    "        countries.name AS country_name,\n",
    "        count(wines.name) AS wine_count,\n",
    "        avg(wines.ratings_average) AS avg_rating,\n",
    "        sum(wines.ratings_count) AS total_reviews\n",
    "    FROM\n",
    "        wines\n",
    "    INNER JOIN \n",
    "        regions ON wines.region_id = regions.id\n",
    "    INNER JOIN \n",
    "        countries ON regions.country_code = countries.code\n",
    "    GROUP BY \n",
    "        countries.name\n",
    "    ORDER BY \n",
    "        avg_rating DESC;\n",
    "    \"\"\"\n",
    ")\n",
    "query_retail_wines = vivino_session.execute(query_retail_wines)\n",
    "\n",
    "# initialize retail_wines_df\n",
    "fetch_query_retail_wines = query_retail_wines.fetchall()\n",
    "retail_wines_df = pd.DataFrame(\n",
    "    fetch_query_retail_wines,\n",
    "    columns=query_retail_wines.keys()\n",
    ")\n",
    "\n",
    "# display retail_wines_df\n",
    "display(retail_wines_df)\n"
   ]
  },
  {
   "cell_type": "code",
   "execution_count": 11,
   "metadata": {},
   "outputs": [],
   "source": [
    "# rename country_name in retail_wines_df to its English name\n",
    "retail_wines_df['country_name'] = retail_wines_df['country_name'].replace(\n",
    "    {\n",
    "        'Italie': 'Italy',\n",
    "        'Allemagne': 'Germany',\n",
    "        'États-Unis': 'United States',\n",
    "        'Moldavie': 'Moldova',\n",
    "        'Hongrie': 'Hungary',\n",
    "        'Afrique du Sud': 'South Africa',\n",
    "        'Australie': 'Australia',\n",
    "        'Espagne': 'Spain',\n",
    "        'Argentine': 'Argentina',\n",
    "        'Roumanie': 'Romania',\n",
    "        'Grèce': 'Greece',\n",
    "        'Suise': 'Switzerland',\n",
    "        'Chili': 'Chile',\n",
    "        'Croate': 'Croatia',\n",
    "    }\n",
    ")"
   ]
  },
  {
   "cell_type": "code",
   "execution_count": 12,
   "metadata": {},
   "outputs": [
    {
     "data": {
      "application/vnd.plotly.v1+json": {
       "config": {
        "plotlyServerURL": "https://plot.ly"
       },
       "data": [
        {
         "coloraxis": "coloraxis",
         "customdata": [
          [
           14,
           4.500000000000001,
           8257
          ],
          [
           1,
           4.5,
           894
          ],
          [
           74,
           4.4905405405405405,
           834263
          ],
          [
           5,
           4.4799999999999995,
           14114
          ],
          [
           11,
           4.472727272727273,
           30564
          ],
          [
           22,
           4.459090909090909,
           59995
          ],
          [
           12,
           4.458333333333333,
           52138
          ],
          [
           331,
           4.447129909365562,
           2124809
          ],
          [
           94,
           4.4436170212765935,
           746710
          ],
          [
           28,
           4.435714285714287,
           62454
          ],
          [
           16,
           4.43125,
           159256
          ],
          [
           383,
           4.430026109660581,
           2135839
          ],
          [
           23,
           4.417391304347826,
           283673
          ],
          [
           1,
           4.4,
           166
          ],
          [
           2,
           4.4,
           610
          ],
          [
           2,
           4.35,
           1047
          ],
          [
           1,
           4.3,
           292
          ]
         ],
         "geo": "geo",
         "hovertemplate": "<b>%{hovertext}</b><br><br>Country=%{location}<br>Wine Count=%{customdata[0]}<br>Average Rating=%{z}<br>Total Reviews=%{customdata[2]}<extra></extra>",
         "hovertext": [
          "Germany",
          "Israël",
          "United States",
          "Moldova",
          "Hungary",
          "South Africa",
          "Australia",
          "France",
          "Spain",
          "Portugal",
          "Chile",
          "Italy",
          "Argentina",
          "Romania",
          "Greece",
          "Suisse",
          "Croatie"
         ],
         "locationmode": "country names",
         "locations": [
          "Germany",
          "Israël",
          "United States",
          "Moldova",
          "Hungary",
          "South Africa",
          "Australia",
          "France",
          "Spain",
          "Portugal",
          "Chile",
          "Italy",
          "Argentina",
          "Romania",
          "Greece",
          "Suisse",
          "Croatie"
         ],
         "name": "",
         "type": "choropleth",
         "z": [
          4.500000000000001,
          4.5,
          4.4905405405405405,
          4.4799999999999995,
          4.472727272727273,
          4.459090909090909,
          4.458333333333333,
          4.447129909365562,
          4.4436170212765935,
          4.435714285714287,
          4.43125,
          4.430026109660581,
          4.417391304347826,
          4.4,
          4.4,
          4.35,
          4.3
         ]
        }
       ],
       "layout": {
        "coloraxis": {
         "colorbar": {
          "title": {
           "text": "Average Rating"
          }
         },
         "colorscale": [
          [
           0,
           "rgb(165,0,38)"
          ],
          [
           0.1,
           "rgb(215,48,39)"
          ],
          [
           0.2,
           "rgb(244,109,67)"
          ],
          [
           0.3,
           "rgb(253,174,97)"
          ],
          [
           0.4,
           "rgb(254,224,139)"
          ],
          [
           0.5,
           "rgb(255,255,191)"
          ],
          [
           0.6,
           "rgb(217,239,139)"
          ],
          [
           0.7,
           "rgb(166,217,106)"
          ],
          [
           0.8,
           "rgb(102,189,99)"
          ],
          [
           0.9,
           "rgb(26,152,80)"
          ],
          [
           1,
           "rgb(0,104,55)"
          ]
         ]
        },
        "geo": {
         "center": {},
         "domain": {
          "x": [
           0,
           1
          ],
          "y": [
           0,
           1
          ]
         },
         "projection": {
          "type": "equirectangular"
         },
         "showcoastlines": false,
         "showframe": false
        },
        "legend": {
         "tracegroupgap": 0
        },
        "template": {
         "data": {
          "bar": [
           {
            "error_x": {
             "color": "#2a3f5f"
            },
            "error_y": {
             "color": "#2a3f5f"
            },
            "marker": {
             "line": {
              "color": "#E5ECF6",
              "width": 0.5
             },
             "pattern": {
              "fillmode": "overlay",
              "size": 10,
              "solidity": 0.2
             }
            },
            "type": "bar"
           }
          ],
          "barpolar": [
           {
            "marker": {
             "line": {
              "color": "#E5ECF6",
              "width": 0.5
             },
             "pattern": {
              "fillmode": "overlay",
              "size": 10,
              "solidity": 0.2
             }
            },
            "type": "barpolar"
           }
          ],
          "carpet": [
           {
            "aaxis": {
             "endlinecolor": "#2a3f5f",
             "gridcolor": "white",
             "linecolor": "white",
             "minorgridcolor": "white",
             "startlinecolor": "#2a3f5f"
            },
            "baxis": {
             "endlinecolor": "#2a3f5f",
             "gridcolor": "white",
             "linecolor": "white",
             "minorgridcolor": "white",
             "startlinecolor": "#2a3f5f"
            },
            "type": "carpet"
           }
          ],
          "choropleth": [
           {
            "colorbar": {
             "outlinewidth": 0,
             "ticks": ""
            },
            "type": "choropleth"
           }
          ],
          "contour": [
           {
            "colorbar": {
             "outlinewidth": 0,
             "ticks": ""
            },
            "colorscale": [
             [
              0,
              "#0d0887"
             ],
             [
              0.1111111111111111,
              "#46039f"
             ],
             [
              0.2222222222222222,
              "#7201a8"
             ],
             [
              0.3333333333333333,
              "#9c179e"
             ],
             [
              0.4444444444444444,
              "#bd3786"
             ],
             [
              0.5555555555555556,
              "#d8576b"
             ],
             [
              0.6666666666666666,
              "#ed7953"
             ],
             [
              0.7777777777777778,
              "#fb9f3a"
             ],
             [
              0.8888888888888888,
              "#fdca26"
             ],
             [
              1,
              "#f0f921"
             ]
            ],
            "type": "contour"
           }
          ],
          "contourcarpet": [
           {
            "colorbar": {
             "outlinewidth": 0,
             "ticks": ""
            },
            "type": "contourcarpet"
           }
          ],
          "heatmap": [
           {
            "colorbar": {
             "outlinewidth": 0,
             "ticks": ""
            },
            "colorscale": [
             [
              0,
              "#0d0887"
             ],
             [
              0.1111111111111111,
              "#46039f"
             ],
             [
              0.2222222222222222,
              "#7201a8"
             ],
             [
              0.3333333333333333,
              "#9c179e"
             ],
             [
              0.4444444444444444,
              "#bd3786"
             ],
             [
              0.5555555555555556,
              "#d8576b"
             ],
             [
              0.6666666666666666,
              "#ed7953"
             ],
             [
              0.7777777777777778,
              "#fb9f3a"
             ],
             [
              0.8888888888888888,
              "#fdca26"
             ],
             [
              1,
              "#f0f921"
             ]
            ],
            "type": "heatmap"
           }
          ],
          "heatmapgl": [
           {
            "colorbar": {
             "outlinewidth": 0,
             "ticks": ""
            },
            "colorscale": [
             [
              0,
              "#0d0887"
             ],
             [
              0.1111111111111111,
              "#46039f"
             ],
             [
              0.2222222222222222,
              "#7201a8"
             ],
             [
              0.3333333333333333,
              "#9c179e"
             ],
             [
              0.4444444444444444,
              "#bd3786"
             ],
             [
              0.5555555555555556,
              "#d8576b"
             ],
             [
              0.6666666666666666,
              "#ed7953"
             ],
             [
              0.7777777777777778,
              "#fb9f3a"
             ],
             [
              0.8888888888888888,
              "#fdca26"
             ],
             [
              1,
              "#f0f921"
             ]
            ],
            "type": "heatmapgl"
           }
          ],
          "histogram": [
           {
            "marker": {
             "pattern": {
              "fillmode": "overlay",
              "size": 10,
              "solidity": 0.2
             }
            },
            "type": "histogram"
           }
          ],
          "histogram2d": [
           {
            "colorbar": {
             "outlinewidth": 0,
             "ticks": ""
            },
            "colorscale": [
             [
              0,
              "#0d0887"
             ],
             [
              0.1111111111111111,
              "#46039f"
             ],
             [
              0.2222222222222222,
              "#7201a8"
             ],
             [
              0.3333333333333333,
              "#9c179e"
             ],
             [
              0.4444444444444444,
              "#bd3786"
             ],
             [
              0.5555555555555556,
              "#d8576b"
             ],
             [
              0.6666666666666666,
              "#ed7953"
             ],
             [
              0.7777777777777778,
              "#fb9f3a"
             ],
             [
              0.8888888888888888,
              "#fdca26"
             ],
             [
              1,
              "#f0f921"
             ]
            ],
            "type": "histogram2d"
           }
          ],
          "histogram2dcontour": [
           {
            "colorbar": {
             "outlinewidth": 0,
             "ticks": ""
            },
            "colorscale": [
             [
              0,
              "#0d0887"
             ],
             [
              0.1111111111111111,
              "#46039f"
             ],
             [
              0.2222222222222222,
              "#7201a8"
             ],
             [
              0.3333333333333333,
              "#9c179e"
             ],
             [
              0.4444444444444444,
              "#bd3786"
             ],
             [
              0.5555555555555556,
              "#d8576b"
             ],
             [
              0.6666666666666666,
              "#ed7953"
             ],
             [
              0.7777777777777778,
              "#fb9f3a"
             ],
             [
              0.8888888888888888,
              "#fdca26"
             ],
             [
              1,
              "#f0f921"
             ]
            ],
            "type": "histogram2dcontour"
           }
          ],
          "mesh3d": [
           {
            "colorbar": {
             "outlinewidth": 0,
             "ticks": ""
            },
            "type": "mesh3d"
           }
          ],
          "parcoords": [
           {
            "line": {
             "colorbar": {
              "outlinewidth": 0,
              "ticks": ""
             }
            },
            "type": "parcoords"
           }
          ],
          "pie": [
           {
            "automargin": true,
            "type": "pie"
           }
          ],
          "scatter": [
           {
            "fillpattern": {
             "fillmode": "overlay",
             "size": 10,
             "solidity": 0.2
            },
            "type": "scatter"
           }
          ],
          "scatter3d": [
           {
            "line": {
             "colorbar": {
              "outlinewidth": 0,
              "ticks": ""
             }
            },
            "marker": {
             "colorbar": {
              "outlinewidth": 0,
              "ticks": ""
             }
            },
            "type": "scatter3d"
           }
          ],
          "scattercarpet": [
           {
            "marker": {
             "colorbar": {
              "outlinewidth": 0,
              "ticks": ""
             }
            },
            "type": "scattercarpet"
           }
          ],
          "scattergeo": [
           {
            "marker": {
             "colorbar": {
              "outlinewidth": 0,
              "ticks": ""
             }
            },
            "type": "scattergeo"
           }
          ],
          "scattergl": [
           {
            "marker": {
             "colorbar": {
              "outlinewidth": 0,
              "ticks": ""
             }
            },
            "type": "scattergl"
           }
          ],
          "scattermapbox": [
           {
            "marker": {
             "colorbar": {
              "outlinewidth": 0,
              "ticks": ""
             }
            },
            "type": "scattermapbox"
           }
          ],
          "scatterpolar": [
           {
            "marker": {
             "colorbar": {
              "outlinewidth": 0,
              "ticks": ""
             }
            },
            "type": "scatterpolar"
           }
          ],
          "scatterpolargl": [
           {
            "marker": {
             "colorbar": {
              "outlinewidth": 0,
              "ticks": ""
             }
            },
            "type": "scatterpolargl"
           }
          ],
          "scatterternary": [
           {
            "marker": {
             "colorbar": {
              "outlinewidth": 0,
              "ticks": ""
             }
            },
            "type": "scatterternary"
           }
          ],
          "surface": [
           {
            "colorbar": {
             "outlinewidth": 0,
             "ticks": ""
            },
            "colorscale": [
             [
              0,
              "#0d0887"
             ],
             [
              0.1111111111111111,
              "#46039f"
             ],
             [
              0.2222222222222222,
              "#7201a8"
             ],
             [
              0.3333333333333333,
              "#9c179e"
             ],
             [
              0.4444444444444444,
              "#bd3786"
             ],
             [
              0.5555555555555556,
              "#d8576b"
             ],
             [
              0.6666666666666666,
              "#ed7953"
             ],
             [
              0.7777777777777778,
              "#fb9f3a"
             ],
             [
              0.8888888888888888,
              "#fdca26"
             ],
             [
              1,
              "#f0f921"
             ]
            ],
            "type": "surface"
           }
          ],
          "table": [
           {
            "cells": {
             "fill": {
              "color": "#EBF0F8"
             },
             "line": {
              "color": "white"
             }
            },
            "header": {
             "fill": {
              "color": "#C8D4E3"
             },
             "line": {
              "color": "white"
             }
            },
            "type": "table"
           }
          ]
         },
         "layout": {
          "annotationdefaults": {
           "arrowcolor": "#2a3f5f",
           "arrowhead": 0,
           "arrowwidth": 1
          },
          "autotypenumbers": "strict",
          "coloraxis": {
           "colorbar": {
            "outlinewidth": 0,
            "ticks": ""
           }
          },
          "colorscale": {
           "diverging": [
            [
             0,
             "#8e0152"
            ],
            [
             0.1,
             "#c51b7d"
            ],
            [
             0.2,
             "#de77ae"
            ],
            [
             0.3,
             "#f1b6da"
            ],
            [
             0.4,
             "#fde0ef"
            ],
            [
             0.5,
             "#f7f7f7"
            ],
            [
             0.6,
             "#e6f5d0"
            ],
            [
             0.7,
             "#b8e186"
            ],
            [
             0.8,
             "#7fbc41"
            ],
            [
             0.9,
             "#4d9221"
            ],
            [
             1,
             "#276419"
            ]
           ],
           "sequential": [
            [
             0,
             "#0d0887"
            ],
            [
             0.1111111111111111,
             "#46039f"
            ],
            [
             0.2222222222222222,
             "#7201a8"
            ],
            [
             0.3333333333333333,
             "#9c179e"
            ],
            [
             0.4444444444444444,
             "#bd3786"
            ],
            [
             0.5555555555555556,
             "#d8576b"
            ],
            [
             0.6666666666666666,
             "#ed7953"
            ],
            [
             0.7777777777777778,
             "#fb9f3a"
            ],
            [
             0.8888888888888888,
             "#fdca26"
            ],
            [
             1,
             "#f0f921"
            ]
           ],
           "sequentialminus": [
            [
             0,
             "#0d0887"
            ],
            [
             0.1111111111111111,
             "#46039f"
            ],
            [
             0.2222222222222222,
             "#7201a8"
            ],
            [
             0.3333333333333333,
             "#9c179e"
            ],
            [
             0.4444444444444444,
             "#bd3786"
            ],
            [
             0.5555555555555556,
             "#d8576b"
            ],
            [
             0.6666666666666666,
             "#ed7953"
            ],
            [
             0.7777777777777778,
             "#fb9f3a"
            ],
            [
             0.8888888888888888,
             "#fdca26"
            ],
            [
             1,
             "#f0f921"
            ]
           ]
          },
          "colorway": [
           "#636efa",
           "#EF553B",
           "#00cc96",
           "#ab63fa",
           "#FFA15A",
           "#19d3f3",
           "#FF6692",
           "#B6E880",
           "#FF97FF",
           "#FECB52"
          ],
          "font": {
           "color": "#2a3f5f"
          },
          "geo": {
           "bgcolor": "white",
           "lakecolor": "white",
           "landcolor": "#E5ECF6",
           "showlakes": true,
           "showland": true,
           "subunitcolor": "white"
          },
          "hoverlabel": {
           "align": "left"
          },
          "hovermode": "closest",
          "mapbox": {
           "style": "light"
          },
          "paper_bgcolor": "white",
          "plot_bgcolor": "#E5ECF6",
          "polar": {
           "angularaxis": {
            "gridcolor": "white",
            "linecolor": "white",
            "ticks": ""
           },
           "bgcolor": "#E5ECF6",
           "radialaxis": {
            "gridcolor": "white",
            "linecolor": "white",
            "ticks": ""
           }
          },
          "scene": {
           "xaxis": {
            "backgroundcolor": "#E5ECF6",
            "gridcolor": "white",
            "gridwidth": 2,
            "linecolor": "white",
            "showbackground": true,
            "ticks": "",
            "zerolinecolor": "white"
           },
           "yaxis": {
            "backgroundcolor": "#E5ECF6",
            "gridcolor": "white",
            "gridwidth": 2,
            "linecolor": "white",
            "showbackground": true,
            "ticks": "",
            "zerolinecolor": "white"
           },
           "zaxis": {
            "backgroundcolor": "#E5ECF6",
            "gridcolor": "white",
            "gridwidth": 2,
            "linecolor": "white",
            "showbackground": true,
            "ticks": "",
            "zerolinecolor": "white"
           }
          },
          "shapedefaults": {
           "line": {
            "color": "#2a3f5f"
           }
          },
          "ternary": {
           "aaxis": {
            "gridcolor": "white",
            "linecolor": "white",
            "ticks": ""
           },
           "baxis": {
            "gridcolor": "white",
            "linecolor": "white",
            "ticks": ""
           },
           "bgcolor": "#E5ECF6",
           "caxis": {
            "gridcolor": "white",
            "linecolor": "white",
            "ticks": ""
           }
          },
          "title": {
           "x": 0.05
          },
          "xaxis": {
           "automargin": true,
           "gridcolor": "white",
           "linecolor": "white",
           "ticks": "",
           "title": {
            "standoff": 15
           },
           "zerolinecolor": "white",
           "zerolinewidth": 2
          },
          "yaxis": {
           "automargin": true,
           "gridcolor": "white",
           "linecolor": "white",
           "ticks": "",
           "title": {
            "standoff": 15
           },
           "zerolinecolor": "white",
           "zerolinewidth": 2
          }
         }
        },
        "title": {
         "text": "COUNTRY LEADERBOARD - WINES PER AVERAGE RATING AND WINE COUNT",
         "x": 0.5,
         "xanchor": "center",
         "y": 0.95,
         "yanchor": "top"
        }
       }
      }
     },
     "metadata": {},
     "output_type": "display_data"
    }
   ],
   "source": [
    "# visualize retail_wines_df \n",
    "fig = px.choropleth(\n",
    "    retail_wines_df,\n",
    "    locations='country_name',\n",
    "    locationmode='country names',\n",
    "    color='avg_rating',\n",
    "    hover_name='country_name',\n",
    "    hover_data=['wine_count', 'avg_rating', 'total_reviews'],\n",
    "    color_continuous_scale='RdYlGn',\n",
    "    title='Top Rated Retail Wines by Country',\n",
    "    labels={\n",
    "        'country_name': 'Country',\n",
    "        'wine_count': 'Wine Count',\n",
    "        'avg_rating': 'Average Rating',\n",
    "        'total_reviews': 'Total Reviews'\n",
    "    }\n",
    ")\n",
    "\n",
    "fig.update_layout(\n",
    "    title={\n",
    "        'text': 'COUNTRY LEADERBOARD - WINES PER AVERAGE RATING AND WINE COUNT',\n",
    "        'y':0.95,\n",
    "        'x':0.5,\n",
    "        'xanchor': 'center',\n",
    "        'yanchor': 'top'\n",
    "    },\n",
    "    geo=dict(\n",
    "        showframe=False,\n",
    "        showcoastlines=False,\n",
    "        projection_type='equirectangular'\n",
    "    )\n",
    ")\n",
    "\n",
    "fig.show()"
   ]
  },
  {
   "cell_type": "code",
   "execution_count": 13,
   "metadata": {},
   "outputs": [
    {
     "name": "stdout",
     "output_type": "stream",
     "text": [
      "2023-09-01 08:53:19,129 INFO sqlalchemy.engine.Engine \n",
      "SELECT\n",
      "    countries.name AS country_name, \n",
      "    CAST(ROUND(avg(rank) + 0.5) AS INTEGER) AS avg_rank,\n",
      "    count(vintages.name) as vintage_count,\n",
      "    avg(vintages.ratings_average) AS avg_rating,\n",
      "    sum(vintages.ratings_count) AS total_reviews,\n",
      "    avg(vintages.price_euros) AS retail_price_euros    \n",
      "FROM vintages\n",
      "LEFT JOIN wines ON vintages.wine_id = wines.id\n",
      "LEFT JOIN regions ON wines.region_id = regions.id\n",
      "LEFT JOIN countries ON regions.country_code = countries.code\n",
      "INNER JOIN vintage_toplists_rankings ON vintages.id = vintage_toplists_rankings.vintage_id\n",
      "WHERE vintage_toplists_rankings.rank = vintage_toplists_rankings.previous_rank\n",
      "GROUP BY countries.name\n",
      "ORDER BY avg_rating DESC;\n",
      "\n"
     ]
    },
    {
     "name": "stderr",
     "output_type": "stream",
     "text": [
      "INFO:sqlalchemy.engine.Engine:\n",
      "SELECT\n",
      "    countries.name AS country_name, \n",
      "    CAST(ROUND(avg(rank) + 0.5) AS INTEGER) AS avg_rank,\n",
      "    count(vintages.name) as vintage_count,\n",
      "    avg(vintages.ratings_average) AS avg_rating,\n",
      "    sum(vintages.ratings_count) AS total_reviews,\n",
      "    avg(vintages.price_euros) AS retail_price_euros    \n",
      "FROM vintages\n",
      "LEFT JOIN wines ON vintages.wine_id = wines.id\n",
      "LEFT JOIN regions ON wines.region_id = regions.id\n",
      "LEFT JOIN countries ON regions.country_code = countries.code\n",
      "INNER JOIN vintage_toplists_rankings ON vintages.id = vintage_toplists_rankings.vintage_id\n",
      "WHERE vintage_toplists_rankings.rank = vintage_toplists_rankings.previous_rank\n",
      "GROUP BY countries.name\n",
      "ORDER BY avg_rating DESC;\n",
      "\n"
     ]
    },
    {
     "name": "stdout",
     "output_type": "stream",
     "text": [
      "2023-09-01 08:53:19,129 INFO sqlalchemy.engine.Engine [generated in 0.00065s] ()\n"
     ]
    },
    {
     "name": "stderr",
     "output_type": "stream",
     "text": [
      "INFO:sqlalchemy.engine.Engine:[generated in 0.00065s] ()\n"
     ]
    },
    {
     "data": {
      "text/html": [
       "<div>\n",
       "<style scoped>\n",
       "    .dataframe tbody tr th:only-of-type {\n",
       "        vertical-align: middle;\n",
       "    }\n",
       "\n",
       "    .dataframe tbody tr th {\n",
       "        vertical-align: top;\n",
       "    }\n",
       "\n",
       "    .dataframe thead th {\n",
       "        text-align: right;\n",
       "    }\n",
       "</style>\n",
       "<table border=\"1\" class=\"dataframe\">\n",
       "  <thead>\n",
       "    <tr style=\"text-align: right;\">\n",
       "      <th></th>\n",
       "      <th>country_name</th>\n",
       "      <th>avg_rank</th>\n",
       "      <th>vintage_count</th>\n",
       "      <th>avg_rating</th>\n",
       "      <th>total_reviews</th>\n",
       "      <th>retail_price_euros</th>\n",
       "    </tr>\n",
       "  </thead>\n",
       "  <tbody>\n",
       "    <tr>\n",
       "      <th>0</th>\n",
       "      <td>États-Unis</td>\n",
       "      <td>6</td>\n",
       "      <td>2</td>\n",
       "      <td>4.700000</td>\n",
       "      <td>621</td>\n",
       "      <td>978.875000</td>\n",
       "    </tr>\n",
       "    <tr>\n",
       "      <th>1</th>\n",
       "      <td>France</td>\n",
       "      <td>5</td>\n",
       "      <td>54</td>\n",
       "      <td>4.612963</td>\n",
       "      <td>98210</td>\n",
       "      <td>1222.805370</td>\n",
       "    </tr>\n",
       "    <tr>\n",
       "      <th>2</th>\n",
       "      <td>Portugal</td>\n",
       "      <td>2</td>\n",
       "      <td>1</td>\n",
       "      <td>4.600000</td>\n",
       "      <td>474</td>\n",
       "      <td>337.500000</td>\n",
       "    </tr>\n",
       "    <tr>\n",
       "      <th>3</th>\n",
       "      <td>Argentine</td>\n",
       "      <td>6</td>\n",
       "      <td>2</td>\n",
       "      <td>4.600000</td>\n",
       "      <td>837</td>\n",
       "      <td>197.475000</td>\n",
       "    </tr>\n",
       "    <tr>\n",
       "      <th>4</th>\n",
       "      <td>Italie</td>\n",
       "      <td>5</td>\n",
       "      <td>71</td>\n",
       "      <td>4.580282</td>\n",
       "      <td>79669</td>\n",
       "      <td>823.190141</td>\n",
       "    </tr>\n",
       "    <tr>\n",
       "      <th>5</th>\n",
       "      <td>Espagne</td>\n",
       "      <td>4</td>\n",
       "      <td>5</td>\n",
       "      <td>4.480000</td>\n",
       "      <td>3145</td>\n",
       "      <td>480.058000</td>\n",
       "    </tr>\n",
       "    <tr>\n",
       "      <th>6</th>\n",
       "      <td>Afrique du Sud</td>\n",
       "      <td>6</td>\n",
       "      <td>4</td>\n",
       "      <td>4.425000</td>\n",
       "      <td>1255</td>\n",
       "      <td>55.487500</td>\n",
       "    </tr>\n",
       "    <tr>\n",
       "      <th>7</th>\n",
       "      <td>Australie</td>\n",
       "      <td>2</td>\n",
       "      <td>2</td>\n",
       "      <td>4.400000</td>\n",
       "      <td>520</td>\n",
       "      <td>114.600000</td>\n",
       "    </tr>\n",
       "  </tbody>\n",
       "</table>\n",
       "</div>"
      ],
      "text/plain": [
       "     country_name  avg_rank  vintage_count  avg_rating  total_reviews  \\\n",
       "0      États-Unis         6              2    4.700000            621   \n",
       "1          France         5             54    4.612963          98210   \n",
       "2        Portugal         2              1    4.600000            474   \n",
       "3       Argentine         6              2    4.600000            837   \n",
       "4          Italie         5             71    4.580282          79669   \n",
       "5         Espagne         4              5    4.480000           3145   \n",
       "6  Afrique du Sud         6              4    4.425000           1255   \n",
       "7       Australie         2              2    4.400000            520   \n",
       "\n",
       "   retail_price_euros  \n",
       "0          978.875000  \n",
       "1         1222.805370  \n",
       "2          337.500000  \n",
       "3          197.475000  \n",
       "4          823.190141  \n",
       "5          480.058000  \n",
       "6           55.487500  \n",
       "7          114.600000  "
      ]
     },
     "metadata": {},
     "output_type": "display_data"
    }
   ],
   "source": [
    "# Identify countries with highest count of top - rated vintage wines based on its aggregated wine ratings\n",
    "query_country_vintages = text(\n",
    "    \"\"\"\n",
    "SELECT\n",
    "    countries.name AS country_name, \n",
    "    CAST(ROUND(avg(rank) + 0.5) AS INTEGER) AS avg_rank,\n",
    "    count(vintages.name) as vintage_count,\n",
    "    avg(vintages.ratings_average) AS avg_rating,\n",
    "    sum(vintages.ratings_count) AS total_reviews,\n",
    "    avg(vintages.price_euros) AS retail_price_euros    \n",
    "FROM vintages\n",
    "LEFT JOIN wines ON vintages.wine_id = wines.id\n",
    "LEFT JOIN regions ON wines.region_id = regions.id\n",
    "LEFT JOIN countries ON regions.country_code = countries.code\n",
    "INNER JOIN vintage_toplists_rankings ON vintages.id = vintage_toplists_rankings.vintage_id\n",
    "WHERE vintage_toplists_rankings.rank = vintage_toplists_rankings.previous_rank\n",
    "GROUP BY countries.name\n",
    "ORDER BY avg_rating DESC;\n",
    "\"\"\"\n",
    ")\n",
    "query_country_vintages = vivino_session.execute(query_country_vintages)\n",
    "\n",
    "# initialize country_vintages_df\n",
    "fetch_query_country_vintages = query_country_vintages.fetchall()\n",
    "country_vintages_df = pd.DataFrame(\n",
    "    fetch_query_country_vintages,\n",
    "    columns=query_country_vintages.keys()\n",
    ")\n",
    "\n",
    "# unlimited display country_vintages_df\n",
    "with pd.option_context('display.max_rows', None, 'display.max_columns', None):\n",
    "    display(country_vintages_df)\n"
   ]
  },
  {
   "cell_type": "markdown",
   "metadata": {},
   "source": [
    "THE AWARD GOES TO\n",
    "- ITALY\n",
    "- FRANCE\n",
    "- SPAIN\n",
    "\n",
    "HONORABLE MENTIONS\n",
    "- USA\n",
    "- ARGENTINA\n",
    "- CHILI\n",
    "- GERMANY"
   ]
  },
  {
   "cell_type": "markdown",
   "metadata": {},
   "source": [
    "### EXTRA ANALYSIS"
   ]
  },
  {
   "cell_type": "code",
   "execution_count": 14,
   "metadata": {},
   "outputs": [
    {
     "name": "stdout",
     "output_type": "stream",
     "text": [
      "2023-09-01 08:53:19,141 INFO sqlalchemy.engine.Engine \n",
      "    SELECT\n",
      "        keywords.name as flavor_keyword,\n",
      "        regions.name as region_name,\n",
      "        count(*) as key_match_counter,\n",
      "        GROUP_CONCAT(DISTINCT wines.name) AS matched_wines\n",
      "    FROM\n",
      "        keywords_wine\n",
      "    INNER JOIN\n",
      "        keywords on keywords_wine.keyword_id = keywords.id\n",
      "    INNER JOIN\n",
      "        wines on keywords_wine.wine_id = wines.id\n",
      "    INNER JOIN\n",
      "        regions on wines.region_id = regions.id\n",
      "    GROUP BY \n",
      "        region_id, keyword_id \n",
      "    HAVING \n",
      "        key_match_counter > 30 \n",
      "    ORDER BY \n",
      "        region_name, key_match_counter DESC;\n",
      "    \n"
     ]
    },
    {
     "name": "stderr",
     "output_type": "stream",
     "text": [
      "INFO:sqlalchemy.engine.Engine:\n",
      "    SELECT\n",
      "        keywords.name as flavor_keyword,\n",
      "        regions.name as region_name,\n",
      "        count(*) as key_match_counter,\n",
      "        GROUP_CONCAT(DISTINCT wines.name) AS matched_wines\n",
      "    FROM\n",
      "        keywords_wine\n",
      "    INNER JOIN\n",
      "        keywords on keywords_wine.keyword_id = keywords.id\n",
      "    INNER JOIN\n",
      "        wines on keywords_wine.wine_id = wines.id\n",
      "    INNER JOIN\n",
      "        regions on wines.region_id = regions.id\n",
      "    GROUP BY \n",
      "        region_id, keyword_id \n",
      "    HAVING \n",
      "        key_match_counter > 30 \n",
      "    ORDER BY \n",
      "        region_name, key_match_counter DESC;\n",
      "    \n"
     ]
    },
    {
     "name": "stdout",
     "output_type": "stream",
     "text": [
      "2023-09-01 08:53:19,142 INFO sqlalchemy.engine.Engine [generated in 0.00046s] ()\n"
     ]
    },
    {
     "name": "stderr",
     "output_type": "stream",
     "text": [
      "INFO:sqlalchemy.engine.Engine:[generated in 0.00046s] ()\n"
     ]
    },
    {
     "data": {
      "text/html": [
       "<div>\n",
       "<style scoped>\n",
       "    .dataframe tbody tr th:only-of-type {\n",
       "        vertical-align: middle;\n",
       "    }\n",
       "\n",
       "    .dataframe tbody tr th {\n",
       "        vertical-align: top;\n",
       "    }\n",
       "\n",
       "    .dataframe thead th {\n",
       "        text-align: right;\n",
       "    }\n",
       "</style>\n",
       "<table border=\"1\" class=\"dataframe\">\n",
       "  <thead>\n",
       "    <tr style=\"text-align: right;\">\n",
       "      <th></th>\n",
       "      <th>flavor_keyword</th>\n",
       "      <th>region_name</th>\n",
       "      <th>key_match_counter</th>\n",
       "      <th>matched_wines</th>\n",
       "    </tr>\n",
       "  </thead>\n",
       "  <tbody>\n",
       "    <tr>\n",
       "      <th>0</th>\n",
       "      <td>vanilla</td>\n",
       "      <td>Amarone della Valpolicella</td>\n",
       "      <td>66</td>\n",
       "      <td>Campo dei Gigli Amarone della Valpolicella,Ama...</td>\n",
       "    </tr>\n",
       "    <tr>\n",
       "      <th>1</th>\n",
       "      <td>almond</td>\n",
       "      <td>Amarone della Valpolicella</td>\n",
       "      <td>65</td>\n",
       "      <td>Campo dei Gigli Amarone della Valpolicella,Ama...</td>\n",
       "    </tr>\n",
       "    <tr>\n",
       "      <th>2</th>\n",
       "      <td>tobacco</td>\n",
       "      <td>Amarone della Valpolicella</td>\n",
       "      <td>60</td>\n",
       "      <td>Campo dei Gigli Amarone della Valpolicella,Ama...</td>\n",
       "    </tr>\n",
       "    <tr>\n",
       "      <th>3</th>\n",
       "      <td>smoke</td>\n",
       "      <td>Amarone della Valpolicella</td>\n",
       "      <td>57</td>\n",
       "      <td>Campo dei Gigli Amarone della Valpolicella,Ama...</td>\n",
       "    </tr>\n",
       "    <tr>\n",
       "      <th>4</th>\n",
       "      <td>jam</td>\n",
       "      <td>Amarone della Valpolicella</td>\n",
       "      <td>57</td>\n",
       "      <td>Campo dei Gigli Amarone della Valpolicella,Ama...</td>\n",
       "    </tr>\n",
       "    <tr>\n",
       "      <th>5</th>\n",
       "      <td>clove</td>\n",
       "      <td>Amarone della Valpolicella</td>\n",
       "      <td>54</td>\n",
       "      <td>Campo dei Gigli Amarone della Valpolicella,Ama...</td>\n",
       "    </tr>\n",
       "    <tr>\n",
       "      <th>6</th>\n",
       "      <td>cinnamon</td>\n",
       "      <td>Amarone della Valpolicella</td>\n",
       "      <td>54</td>\n",
       "      <td>Campo dei Gigli Amarone della Valpolicella,Ama...</td>\n",
       "    </tr>\n",
       "    <tr>\n",
       "      <th>7</th>\n",
       "      <td>prune</td>\n",
       "      <td>Amarone della Valpolicella</td>\n",
       "      <td>44</td>\n",
       "      <td>Campo dei Gigli Amarone della Valpolicella,Ama...</td>\n",
       "    </tr>\n",
       "    <tr>\n",
       "      <th>8</th>\n",
       "      <td>coffee</td>\n",
       "      <td>Amarone della Valpolicella</td>\n",
       "      <td>44</td>\n",
       "      <td>Campo dei Gigli Amarone della Valpolicella,Ama...</td>\n",
       "    </tr>\n",
       "    <tr>\n",
       "      <th>9</th>\n",
       "      <td>black cherry</td>\n",
       "      <td>Amarone della Valpolicella</td>\n",
       "      <td>42</td>\n",
       "      <td>Campo dei Gigli Amarone della Valpolicella,Ama...</td>\n",
       "    </tr>\n",
       "  </tbody>\n",
       "</table>\n",
       "</div>"
      ],
      "text/plain": [
       "  flavor_keyword                 region_name  key_match_counter  \\\n",
       "0        vanilla  Amarone della Valpolicella                 66   \n",
       "1         almond  Amarone della Valpolicella                 65   \n",
       "2        tobacco  Amarone della Valpolicella                 60   \n",
       "3          smoke  Amarone della Valpolicella                 57   \n",
       "4            jam  Amarone della Valpolicella                 57   \n",
       "5          clove  Amarone della Valpolicella                 54   \n",
       "6       cinnamon  Amarone della Valpolicella                 54   \n",
       "7          prune  Amarone della Valpolicella                 44   \n",
       "8         coffee  Amarone della Valpolicella                 44   \n",
       "9   black cherry  Amarone della Valpolicella                 42   \n",
       "\n",
       "                                       matched_wines  \n",
       "0  Campo dei Gigli Amarone della Valpolicella,Ama...  \n",
       "1  Campo dei Gigli Amarone della Valpolicella,Ama...  \n",
       "2  Campo dei Gigli Amarone della Valpolicella,Ama...  \n",
       "3  Campo dei Gigli Amarone della Valpolicella,Ama...  \n",
       "4  Campo dei Gigli Amarone della Valpolicella,Ama...  \n",
       "5  Campo dei Gigli Amarone della Valpolicella,Ama...  \n",
       "6  Campo dei Gigli Amarone della Valpolicella,Ama...  \n",
       "7  Campo dei Gigli Amarone della Valpolicella,Ama...  \n",
       "8  Campo dei Gigli Amarone della Valpolicella,Ama...  \n",
       "9  Campo dei Gigli Amarone della Valpolicella,Ama...  "
      ]
     },
     "metadata": {},
     "output_type": "display_data"
    }
   ],
   "source": [
    "# Identifying flavor profiles per region\n",
    "\n",
    "query_region_flavor_profile = text(\n",
    "    \"\"\"\n",
    "    SELECT\n",
    "        keywords.name as flavor_keyword,\n",
    "        regions.name as region_name,\n",
    "        count(*) as key_match_counter,\n",
    "        GROUP_CONCAT(DISTINCT wines.name) AS matched_wines\n",
    "    FROM\n",
    "        keywords_wine\n",
    "    INNER JOIN\n",
    "        keywords on keywords_wine.keyword_id = keywords.id\n",
    "    INNER JOIN\n",
    "        wines on keywords_wine.wine_id = wines.id\n",
    "    INNER JOIN\n",
    "        regions on wines.region_id = regions.id\n",
    "    GROUP BY \n",
    "        region_id, keyword_id \n",
    "    HAVING \n",
    "        key_match_counter > 30 \n",
    "    ORDER BY \n",
    "        region_name, key_match_counter DESC;\n",
    "    \"\"\"\n",
    ")\n",
    "query_region_flavor_profile = vivino_session.execute(query_region_flavor_profile)\n",
    "\n",
    "# initialize region_flavor_profile_df\n",
    "fetch_query_region_flavor_profile = query_region_flavor_profile.fetchall()\n",
    "region_flavor_profile_df = pd.DataFrame(\n",
    "    fetch_query_region_flavor_profile,\n",
    "    columns=query_region_flavor_profile.keys()\n",
    ")\n",
    "\n",
    "# unlimited display region_flavor_profile_df\n",
    "with pd.option_context('display.max_rows', None, 'display.max_columns', None):\n",
    "    display(region_flavor_profile_df.head(10))\n"
   ]
  },
  {
   "cell_type": "code",
   "execution_count": 15,
   "metadata": {},
   "outputs": [
    {
     "name": "stdout",
     "output_type": "stream",
     "text": [
      "2023-09-01 08:53:19,245 INFO sqlalchemy.engine.Engine ROLLBACK\n"
     ]
    },
    {
     "name": "stderr",
     "output_type": "stream",
     "text": [
      "INFO:sqlalchemy.engine.Engine:ROLLBACK\n"
     ]
    }
   ],
   "source": [
    "# close connection and session\t\n",
    "vivino_session.close()\n",
    "vivino_engine.dispose()\n"
   ]
  }
 ],
 "metadata": {
  "kernelspec": {
   "display_name": "vivino_venv",
   "language": "python",
   "name": "python3"
  },
  "language_info": {
   "codemirror_mode": {
    "name": "ipython",
    "version": 3
   },
   "file_extension": ".py",
   "mimetype": "text/x-python",
   "name": "python",
   "nbconvert_exporter": "python",
   "pygments_lexer": "ipython3",
   "version": "3.11.4"
  },
  "orig_nbformat": 4
 },
 "nbformat": 4,
 "nbformat_minor": 2
}
