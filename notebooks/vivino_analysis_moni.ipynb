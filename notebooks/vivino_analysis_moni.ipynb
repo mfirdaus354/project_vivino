{
 "cells": [
  {
   "cell_type": "markdown",
   "metadata": {},
   "source": [
    "### Ananlysis for Vivino "
   ]
  },
  {
   "cell_type": "code",
   "execution_count": 2,
   "metadata": {},
   "outputs": [],
   "source": [
    "import sqlite3\n",
    "connexion = sqlite3.connect(\"../data/vivino.db\")\n",
    "cursor = connexion.cursor()"
   ]
  },
  {
   "cell_type": "code",
   "execution_count": 3,
   "metadata": {},
   "outputs": [
    {
     "data": {
      "text/plain": [
       "[('Cabernet Sauvignon', 4.6, 157944, 6325),\n",
       " ('Brut Champagne', 4.6, 146377, 13491),\n",
       " ('Tignanello', 4.5, 142513, 8219),\n",
       " ('Sassicaia', 4.6, 107646, 2210),\n",
       " ('60 Sessantanni Old Vines Primitivo di Manduria', 4.5, 94289, 2765),\n",
       " ('Costasera Amarone della Valpolicella Classico', 4.3, 93397, 2036),\n",
       " ('ARTEMIS Cabernet Sauvignon', 4.4, 81351, 3174),\n",
       " ('Amarone della Valpolicella Classico', 4.3, 77515, 1605),\n",
       " ('Opus One', 4.6, 77053, 1152),\n",
       " ('Pauillac (Premier Grand Cru Classé)', 4.6, 73615, 2431)]"
      ]
     },
     "execution_count": 3,
     "metadata": {},
     "output_type": "execute_result"
    }
   ],
   "source": [
    "query1 = \"\"\"\n",
    "    SELECT \n",
    "        wines.name, \n",
    "        wines.ratings_average,\n",
    "        wines.ratings_count,\n",
    "        wines.user_structure_count\n",
    "    FROM\n",
    "        wines\n",
    "    ORDER BY\n",
    "       wines.ratings_count DESC, wines.ratings_average DESC\n",
    "    LIMIT 10; \n",
    "    \"\"\"\n",
    "\n",
    "cursor.execute(query1)\n",
    "cursor.fetchall()"
   ]
  }
 ],
 "metadata": {
  "kernelspec": {
   "display_name": ".venv",
   "language": "python",
   "name": "python3"
  },
  "language_info": {
   "codemirror_mode": {
    "name": "ipython",
    "version": 3
   },
   "file_extension": ".py",
   "mimetype": "text/x-python",
   "name": "python",
   "nbconvert_exporter": "python",
   "pygments_lexer": "ipython3",
   "version": "3.9.5"
  },
  "orig_nbformat": 4
 },
 "nbformat": 4,
 "nbformat_minor": 2
}
